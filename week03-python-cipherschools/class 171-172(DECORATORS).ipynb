{
 "cells": [
  {
   "cell_type": "code",
   "execution_count": 21,
   "id": "ec160a6d",
   "metadata": {},
   "outputs": [
    {
     "name": "stdout",
     "output_type": "stream",
     "text": [
      "this is awesome functional\n",
      "this is function 1\n",
      "this is awesome functional\n",
      "this is function 2\n"
     ]
    }
   ],
   "source": [
    "# decorators - enhance the functionality of other functions\n",
    "\n",
    "def decorator(any_function):\n",
    "    def wrapper_function():\n",
    "        print(\"this is awesome functional\") # pehle yeh line aygi\n",
    "        any_function()# phir yeh fucntion call hoga\n",
    "    return wrapper_function\n",
    "    \n",
    "# this is awesome function\n",
    "@decorator\n",
    "def func1():\n",
    "    print(\"this is function 1\")\n",
    "func1()\n",
    "#this is awesome function\n",
    "@decorator\n",
    "def func2():\n",
    "    print(\"this is function 2\")\n",
    "func2()\n",
    "    \n",
    "    \n",
    "#func1=decorator(func1)\n",
    "#func1()\n",
    "\n",
    "    "
   ]
  },
  {
   "cell_type": "code",
   "execution_count": null,
   "id": "98633a5c",
   "metadata": {},
   "outputs": [],
   "source": [
    "#class 172"
   ]
  },
  {
   "cell_type": "code",
   "execution_count": 26,
   "id": "62c6baef",
   "metadata": {},
   "outputs": [
    {
     "name": "stdout",
     "output_type": "stream",
     "text": [
      "this is a function with argument 7\n"
     ]
    }
   ],
   "source": [
    "\n",
    "def decorator(any_function):\n",
    "    def wrapper_function():\n",
    "        print(\"this is awesome functional\") \n",
    "        any_function()\n",
    "    return wrapper_function\n",
    "\n",
    "\n",
    "#@decorator # we cannot use it\n",
    "def func(a):\n",
    "    print(f\"this is a function with argument {a}\")\n",
    "func(7)"
   ]
  },
  {
   "cell_type": "code",
   "execution_count": 34,
   "id": "7da7170c",
   "metadata": {},
   "outputs": [
    {
     "name": "stdout",
     "output_type": "stream",
     "text": [
      "this is awesome functional\n",
      "this is a function with argument 7\n",
      "this is awesome functional\n",
      "None\n"
     ]
    }
   ],
   "source": [
    "def decorator(any_function):\n",
    "    def wrapper_function(*args,**kwargs):\n",
    "        print(\"this is awesome functional\") \n",
    "        any_function(*args,**kwargs)\n",
    "    return wrapper_function\n",
    "\n",
    "\n",
    "@decorator\n",
    "def func(a):\n",
    "    print(f\"this is a function with argument {a}\")\n",
    "func(7)\n",
    "\n",
    "@decorator\n",
    "def add(a,b):\n",
    "    return a + b\n",
    "print(add(2,3)) # we cannot get the output first we have to return the any_function"
   ]
  },
  {
   "cell_type": "code",
   "execution_count": 35,
   "id": "caba8bf2",
   "metadata": {},
   "outputs": [
    {
     "name": "stdout",
     "output_type": "stream",
     "text": [
      "this is awesome functional\n",
      "this is a function with argument 7\n",
      "this is awesome functional\n",
      "5\n"
     ]
    }
   ],
   "source": [
    "def decorator(any_function):\n",
    "    def wrapper_function(*args,**kwargs):\n",
    "        print(\"this is awesome functional\") \n",
    "        return any_function(*args,**kwargs)\n",
    "    return wrapper_function\n",
    "\n",
    "\n",
    "@decorator\n",
    "def func(a):\n",
    "    print(f\"this is a function with argument {a}\")\n",
    "func(7)\n",
    "\n",
    "@decorator\n",
    "def add(a,b):\n",
    "    return a + b\n",
    "print(add(2,3))"
   ]
  },
  {
   "cell_type": "code",
   "execution_count": null,
   "id": "22966726",
   "metadata": {},
   "outputs": [],
   "source": []
  }
 ],
 "metadata": {
  "kernelspec": {
   "display_name": "Python 3 (ipykernel)",
   "language": "python",
   "name": "python3"
  },
  "language_info": {
   "codemirror_mode": {
    "name": "ipython",
    "version": 3
   },
   "file_extension": ".py",
   "mimetype": "text/x-python",
   "name": "python",
   "nbconvert_exporter": "python",
   "pygments_lexer": "ipython3",
   "version": "3.9.13"
  }
 },
 "nbformat": 4,
 "nbformat_minor": 5
}
