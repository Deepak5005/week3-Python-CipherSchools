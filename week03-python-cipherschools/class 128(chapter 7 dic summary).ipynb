{
 "cells": [
  {
   "cell_type": "code",
   "execution_count": 12,
   "id": "0ac23f27",
   "metadata": {},
   "outputs": [
    {
     "name": "stdout",
     "output_type": "stream",
     "text": [
      "{'name': 'isha', 'age': 19}\n",
      "{'name': 'isha', 'age': 19}\n",
      "{'name': 'isha', 'age': 19}\n"
     ]
    }
   ],
   "source": [
    "#summary\n",
    "d={'name':'isha',\"age\":19}\n",
    "#or\n",
    "d1=dict(name='isha', age=19)\n",
    "#or\n",
    "d2={\n",
    "    'name':'isha',\n",
    "    'age':19,\n",
    "}\n",
    "print(d)\n",
    "print(d1)\n",
    "print(d2)"
   ]
  },
  {
   "cell_type": "code",
   "execution_count": 14,
   "id": "94ff94bf",
   "metadata": {},
   "outputs": [
    {
     "name": "stdout",
     "output_type": "stream",
     "text": [
      "isha\n"
     ]
    }
   ],
   "source": [
    "#how to acces data from the dic\n",
    "#there is no order inside the dictionary\n",
    "#we cannot use the indexing [0]\n",
    "d1=dict(name='isha', age=19)\n",
    "print(d['name'])\n"
   ]
  },
  {
   "cell_type": "code",
   "execution_count": 15,
   "id": "653d7dcf",
   "metadata": {},
   "outputs": [
    {
     "name": "stdout",
     "output_type": "stream",
     "text": [
      "{'key1': 'value1', 'key2': 'value2'}\n"
     ]
    }
   ],
   "source": [
    "#add data inside an empty dic\n",
    "empty={}\n",
    "empty['key1']='value1'\n",
    "empty['key2']='value2'\n",
    "print(empty)"
   ]
  },
  {
   "cell_type": "code",
   "execution_count": null,
   "id": "c4ceddd9",
   "metadata": {},
   "outputs": [],
   "source": [
    "#check existence of values inside dict\n",
    "if  'name' in d\n"
   ]
  },
  {
   "cell_type": "code",
   "execution_count": 17,
   "id": "60ff416a",
   "metadata": {},
   "outputs": [
    {
     "name": "stdout",
     "output_type": "stream",
     "text": [
      "key is name and value is isha\n",
      "key is age and value is 19\n"
     ]
    }
   ],
   "source": [
    "#how to iterate(loop) in dic\n",
    "#most common method\n",
    "d={'name':'isha',\"age\":19}\n",
    "for key,value in d.items():\n",
    "    print(f'key is {key} and value is {value}')\n",
    "\n",
    "\n",
    "    \n"
   ]
  },
  {
   "cell_type": "code",
   "execution_count": 18,
   "id": "df876a40",
   "metadata": {},
   "outputs": [
    {
     "name": "stdout",
     "output_type": "stream",
     "text": [
      "name\n",
      "age\n"
     ]
    }
   ],
   "source": [
    "#to print all the keys\n",
    "d={'name':'isha',\"age\":19}\n",
    "for i in d:\n",
    "    print(i)"
   ]
  },
  {
   "cell_type": "code",
   "execution_count": 20,
   "id": "58a41bf9",
   "metadata": {},
   "outputs": [
    {
     "name": "stdout",
     "output_type": "stream",
     "text": [
      "isha\n",
      "19\n"
     ]
    }
   ],
   "source": [
    "#to print all the values\n",
    "d={'name':'isha',\"age\":19}\n",
    "for i in d.values():\n",
    "    print(i)"
   ]
  },
  {
   "cell_type": "code",
   "execution_count": 21,
   "id": "f52151d4",
   "metadata": {},
   "outputs": [
    {
     "name": "stdout",
     "output_type": "stream",
     "text": [
      "isha\n"
     ]
    }
   ],
   "source": [
    "#get method\n",
    "d={'name':'isha',\"age\":19}\n",
    "print(d.get('name'))\n",
    "#why we use get metthod\n",
    "# to get rid of errors\n",
    "\n"
   ]
  },
  {
   "cell_type": "code",
   "execution_count": 22,
   "id": "6d52fd98",
   "metadata": {},
   "outputs": [
    {
     "name": "stdout",
     "output_type": "stream",
     "text": [
      "None\n"
     ]
    }
   ],
   "source": [
    "d={'name':'isha',\"age\":19}\n",
    "#print(d['names']) it will show error\n",
    "print(d.get(\"names\")) #it will return none"
   ]
  },
  {
   "cell_type": "code",
   "execution_count": 23,
   "id": "71f7f18c",
   "metadata": {},
   "outputs": [
    {
     "name": "stdout",
     "output_type": "stream",
     "text": [
      "{'age': 19}\n"
     ]
    }
   ],
   "source": [
    "# to detele\n",
    "d={'name':'isha',\"age\":19}\n",
    "pop=d.pop('name')\n",
    "print(d)"
   ]
  },
  {
   "cell_type": "code",
   "execution_count": 28,
   "id": "e7240e77",
   "metadata": {},
   "outputs": [
    {
     "name": "stdout",
     "output_type": "stream",
     "text": [
      "{'name': 'isha'}\n",
      "('age', 19)\n"
     ]
    }
   ],
   "source": [
    "d={'name':'isha',\"age\":19}\n",
    "#popitem\n",
    "popped=d.popitem()\n",
    "print(d)\n",
    "print(popped)"
   ]
  },
  {
   "cell_type": "code",
   "execution_count": null,
   "id": "6395e292",
   "metadata": {},
   "outputs": [],
   "source": []
  },
  {
   "cell_type": "code",
   "execution_count": null,
   "id": "d2948303",
   "metadata": {},
   "outputs": [],
   "source": []
  }
 ],
 "metadata": {
  "kernelspec": {
   "display_name": "Python 3 (ipykernel)",
   "language": "python",
   "name": "python3"
  },
  "language_info": {
   "codemirror_mode": {
    "name": "ipython",
    "version": 3
   },
   "file_extension": ".py",
   "mimetype": "text/x-python",
   "name": "python",
   "nbconvert_exporter": "python",
   "pygments_lexer": "ipython3",
   "version": "3.9.13"
  }
 },
 "nbformat": 4,
 "nbformat_minor": 5
}
