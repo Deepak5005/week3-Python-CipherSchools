{
 "cells": [
  {
   "cell_type": "code",
   "execution_count": null,
   "id": "61148004",
   "metadata": {},
   "outputs": [],
   "source": [
    "# num to string \n",
    "# define a function\n",
    "\n",
    "#example\n",
    "# input -> [True, False, [1,2,3], 1, 1.0, 3] \n",
    "#output -> ['1', '1.0', '3']"
   ]
  },
  {
   "cell_type": "code",
   "execution_count": 6,
   "id": "7d896193",
   "metadata": {},
   "outputs": [
    {
     "name": "stdout",
     "output_type": "stream",
     "text": [
      "['1', '1.0', '3']\n"
     ]
    }
   ],
   "source": [
    "def num_to_string(l):\n",
    "    return [str(i) for i in l if (type(i)==int or type(i)==float)]\n",
    "print(num_to_string([True, False, [1,2,3], 1, 1.0, 3]))"
   ]
  },
  {
   "cell_type": "code",
   "execution_count": 7,
   "id": "bdbd8b28",
   "metadata": {},
   "outputs": [
    {
     "name": "stdout",
     "output_type": "stream",
     "text": [
      "['1', '1.0', '3']\n"
     ]
    }
   ],
   "source": [
    "def num(l):\n",
    "    new=[]\n",
    "    for i in l:\n",
    "        if type(i)==int or type(i)==float:\n",
    "            new.append(str(i))\n",
    "    return new\n",
    "print(num([True, False, [1,2,3], 1, 1.0, 3]))"
   ]
  },
  {
   "cell_type": "code",
   "execution_count": null,
   "id": "9d8e399d",
   "metadata": {},
   "outputs": [],
   "source": []
  },
  {
   "cell_type": "code",
   "execution_count": null,
   "id": "453ab330",
   "metadata": {},
   "outputs": [],
   "source": []
  }
 ],
 "metadata": {
  "kernelspec": {
   "display_name": "Python 3 (ipykernel)",
   "language": "python",
   "name": "python3"
  },
  "language_info": {
   "codemirror_mode": {
    "name": "ipython",
    "version": 3
   },
   "file_extension": ".py",
   "mimetype": "text/x-python",
   "name": "python",
   "nbconvert_exporter": "python",
   "pygments_lexer": "ipython3",
   "version": "3.9.13"
  }
 },
 "nbformat": 4,
 "nbformat_minor": 5
}
