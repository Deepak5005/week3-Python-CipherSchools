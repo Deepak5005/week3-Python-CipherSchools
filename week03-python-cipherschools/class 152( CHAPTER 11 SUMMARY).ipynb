{
 "cells": [
  {
   "cell_type": "code",
   "execution_count": 2,
   "id": "06cbed05",
   "metadata": {},
   "outputs": [
    {
     "name": "stdout",
     "output_type": "stream",
     "text": [
      "13\n"
     ]
    }
   ],
   "source": [
    "def add(a,b):\n",
    "    return a+b\n",
    "# but we cannot add more than 2 number\n",
    "def new(*args):\n",
    "    #1,2,3,4\n",
    "    #gather values as a tuple\n",
    "    total=0\n",
    "    for num in args:\n",
    "        total +=num\n",
    "    return total\n",
    "print(new(1,2,4,6))"
   ]
  },
  {
   "cell_type": "code",
   "execution_count": null,
   "id": "c2b6bb02",
   "metadata": {},
   "outputs": [],
   "source": [
    "# args gives tuple\n",
    "#kwargs gives dictionary\n"
   ]
  },
  {
   "cell_type": "code",
   "execution_count": 5,
   "id": "bcd5675a",
   "metadata": {},
   "outputs": [
    {
     "name": "stdout",
     "output_type": "stream",
     "text": [
      "10\n"
     ]
    }
   ],
   "source": [
    "def new(*args):\n",
    "    total=0\n",
    "    for num in args:\n",
    "        total += num\n",
    "    return total\n",
    "l=[1,2,3,4]\n",
    "print(new(*l)) #unpacking\n"
   ]
  },
  {
   "cell_type": "code",
   "execution_count": 7,
   "id": "63499ebc",
   "metadata": {},
   "outputs": [
    {
     "name": "stdout",
     "output_type": "stream",
     "text": [
      "10\n"
     ]
    }
   ],
   "source": [
    "def new(*args):\n",
    "    total=0\n",
    "    for num in args:\n",
    "        total += num\n",
    "    return total\n",
    "l=(1,2,3,4)\n",
    "print(new(*l))"
   ]
  },
  {
   "cell_type": "code",
   "execution_count": 8,
   "id": "35a5c189",
   "metadata": {},
   "outputs": [
    {
     "name": "stdout",
     "output_type": "stream",
     "text": [
      "{'name': 'isha', 'age': 19}\n"
     ]
    }
   ],
   "source": [
    "# kwargs\n",
    "def func(**kwargs):\n",
    "    print(kwargs)\n",
    "func(name='isha',age=19)\n",
    "    "
   ]
  },
  {
   "cell_type": "code",
   "execution_count": null,
   "id": "e3c42a25",
   "metadata": {},
   "outputs": [],
   "source": [
    "# all functions\n",
    "# parameter\n",
    "# args \n",
    "# default parameter\n",
    "# kwargs\n",
    "# this is the order\n",
    "# PADK paramert, args, default parameter , kwargs"
   ]
  },
  {
   "cell_type": "code",
   "execution_count": null,
   "id": "bf73ecd5",
   "metadata": {},
   "outputs": [],
   "source": []
  },
  {
   "cell_type": "code",
   "execution_count": null,
   "id": "ed56ead2",
   "metadata": {},
   "outputs": [],
   "source": []
  }
 ],
 "metadata": {
  "kernelspec": {
   "display_name": "Python 3 (ipykernel)",
   "language": "python",
   "name": "python3"
  },
  "language_info": {
   "codemirror_mode": {
    "name": "ipython",
    "version": 3
   },
   "file_extension": ".py",
   "mimetype": "text/x-python",
   "name": "python",
   "nbconvert_exporter": "python",
   "pygments_lexer": "ipython3",
   "version": "3.9.13"
  }
 },
 "nbformat": 4,
 "nbformat_minor": 5
}
