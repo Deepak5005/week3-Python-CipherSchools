{
 "cells": [
  {
   "cell_type": "code",
   "execution_count": null,
   "id": "57f41f9e",
   "metadata": {},
   "outputs": [],
   "source": [
    "# LAMBDA EXPRESSIONS (ANONYMOUS FUNCTION)\n"
   ]
  },
  {
   "cell_type": "code",
   "execution_count": 4,
   "id": "92c89e14",
   "metadata": {},
   "outputs": [
    {
     "name": "stdout",
     "output_type": "stream",
     "text": [
      "5\n",
      "<function add at 0x000001D458147E50>\n",
      "<function <lambda> at 0x000001D45816D310>\n"
     ]
    }
   ],
   "source": [
    "def add(a,b):\n",
    "    return a+b\n",
    "# or \n",
    "add2=lambda a,b : a+b\n",
    "print(add2(2,3))\n",
    "print(add)\n",
    "print(add2)\n",
    "# we do not assign lambda to the variable\n",
    "# used in inbuilt, map,reduce, filter\n"
   ]
  },
  {
   "cell_type": "code",
   "execution_count": null,
   "id": "72f83dd8",
   "metadata": {},
   "outputs": [],
   "source": [
    "#<function <lambda> at  this means where it is loacted in our memory\n",
    "0x000001D45816D310>"
   ]
  },
  {
   "cell_type": "code",
   "execution_count": null,
   "id": "cd274d41",
   "metadata": {},
   "outputs": [],
   "source": []
  },
  {
   "cell_type": "code",
   "execution_count": 2,
   "id": "05ea5bf1",
   "metadata": {},
   "outputs": [
    {
     "name": "stdout",
     "output_type": "stream",
     "text": [
      "6\n"
     ]
    }
   ],
   "source": [
    "multiply = lambda a,b : a*b\n",
    "print(multiply(2,3))"
   ]
  },
  {
   "cell_type": "code",
   "execution_count": null,
   "id": "d59f6c7f",
   "metadata": {},
   "outputs": [],
   "source": []
  },
  {
   "cell_type": "code",
   "execution_count": null,
   "id": "8382fb6a",
   "metadata": {},
   "outputs": [],
   "source": []
  },
  {
   "cell_type": "code",
   "execution_count": null,
   "id": "a5ce08ef",
   "metadata": {},
   "outputs": [],
   "source": []
  },
  {
   "cell_type": "code",
   "execution_count": null,
   "id": "84a8bc23",
   "metadata": {},
   "outputs": [],
   "source": []
  }
 ],
 "metadata": {
  "kernelspec": {
   "display_name": "Python 3 (ipykernel)",
   "language": "python",
   "name": "python3"
  },
  "language_info": {
   "codemirror_mode": {
    "name": "ipython",
    "version": 3
   },
   "file_extension": ".py",
   "mimetype": "text/x-python",
   "name": "python",
   "nbconvert_exporter": "python",
   "pygments_lexer": "ipython3",
   "version": "3.9.13"
  }
 },
 "nbformat": 4,
 "nbformat_minor": 5
}
