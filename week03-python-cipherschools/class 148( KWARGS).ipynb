{
 "cells": [
  {
   "cell_type": "code",
   "execution_count": null,
   "id": "752bf3f3",
   "metadata": {},
   "outputs": [],
   "source": [
    "#kwargs( keyword argument)\n",
    "#**kwargs( double star operator)"
   ]
  },
  {
   "cell_type": "code",
   "execution_count": 3,
   "id": "6d9f69e8",
   "metadata": {},
   "outputs": [
    {
     "name": "stdout",
     "output_type": "stream",
     "text": [
      "{'first_name': 'isha', 'last_name': 'verma'}\n",
      "<class 'dict'>\n"
     ]
    }
   ],
   "source": [
    "# kwargs as a parameter\n",
    "def fun(**kwargs):\n",
    "    print(kwargs)\n",
    "    print(type(kwargs))\n",
    "fun(first_name='isha',last_name=\"verma\")\n",
    "# gather in dictionary\n"
   ]
  },
  {
   "cell_type": "code",
   "execution_count": 6,
   "id": "43894ea2",
   "metadata": {},
   "outputs": [
    {
     "name": "stdout",
     "output_type": "stream",
     "text": [
      "first_name:isha\n",
      "last_name:verma\n"
     ]
    }
   ],
   "source": [
    "def fun(**kwargs):\n",
    "    for k,v in kwargs.items():\n",
    "        print(f'{k}:{v}')\n",
    "fun(first_name='isha',last_name=\"verma\")"
   ]
  },
  {
   "cell_type": "code",
   "execution_count": 10,
   "id": "10d99d19",
   "metadata": {},
   "outputs": [
    {
     "name": "stdout",
     "output_type": "stream",
     "text": [
      "first_name:isha\n",
      "last_name:verma\n"
     ]
    }
   ],
   "source": [
    "def fun(name,**kwargs):\n",
    "    for k,v in kwargs.items():\n",
    "        print(f'{k}:{v}')\n",
    "fun('athira',first_name='isha',last_name=\"verma\")"
   ]
  },
  {
   "cell_type": "code",
   "execution_count": 11,
   "id": "04387404",
   "metadata": {},
   "outputs": [
    {
     "name": "stdout",
     "output_type": "stream",
     "text": [
      "name:athira\n",
      "age:19\n"
     ]
    }
   ],
   "source": [
    "# dictionary unpacking\n",
    "def fun(**kwargs):\n",
    "    for k,v in kwargs.items():\n",
    "        print(f'{k}:{v}')\n",
    "d={'name':\"athira\",\"age\":19}\n",
    "fun(**d)"
   ]
  }
 ],
 "metadata": {
  "kernelspec": {
   "display_name": "Python 3 (ipykernel)",
   "language": "python",
   "name": "python3"
  },
  "language_info": {
   "codemirror_mode": {
    "name": "ipython",
    "version": 3
   },
   "file_extension": ".py",
   "mimetype": "text/x-python",
   "name": "python",
   "nbconvert_exporter": "python",
   "pygments_lexer": "ipython3",
   "version": "3.9.13"
  }
 },
 "nbformat": 4,
 "nbformat_minor": 5
}
