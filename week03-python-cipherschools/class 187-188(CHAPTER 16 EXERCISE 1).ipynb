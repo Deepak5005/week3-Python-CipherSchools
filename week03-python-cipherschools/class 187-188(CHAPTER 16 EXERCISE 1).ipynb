{
 "cells": [
  {
   "cell_type": "code",
   "execution_count": null,
   "id": "b30a2797",
   "metadata": {},
   "outputs": [],
   "source": [
    "# create a laptop class with attributes like brand name, model name, price\n",
    "# create two obejects/instance of your laptop"
   ]
  },
  {
   "cell_type": "code",
   "execution_count": 2,
   "id": "f9343e2c",
   "metadata": {},
   "outputs": [
    {
     "name": "stdout",
     "output_type": "stream",
     "text": [
      "Dell\n"
     ]
    }
   ],
   "source": [
    "class Laptop:\n",
    "    def __init__(self,brand,model,price):\n",
    "        self.brand=brand\n",
    "        self.model=model\n",
    "        self.price=price\n",
    "l1=Laptop('Dell','Inspiron',50000)\n",
    "l2=Laptop('HP','i7',90000)\n",
    "print(l1.brand)"
   ]
  },
  {
   "cell_type": "code",
   "execution_count": 3,
   "id": "5b31cb8f",
   "metadata": {},
   "outputs": [
    {
     "name": "stdout",
     "output_type": "stream",
     "text": [
      "Dell\n",
      "Dell Inspiron\n"
     ]
    }
   ],
   "source": [
    "class Laptop:\n",
    "    def __init__(self,brand,model,price):\n",
    "        self.brand=brand\n",
    "        self.model=model\n",
    "        self.price=price\n",
    "        self.laptop_name=brand + ' ' + model\n",
    "l1=Laptop('Dell','Inspiron',50000)\n",
    "l2=Laptop('HP','i7',90000)\n",
    "print(l1.brand)\n",
    "print(l1.laptop_name)"
   ]
  }
 ],
 "metadata": {
  "kernelspec": {
   "display_name": "Python 3 (ipykernel)",
   "language": "python",
   "name": "python3"
  },
  "language_info": {
   "codemirror_mode": {
    "name": "ipython",
    "version": 3
   },
   "file_extension": ".py",
   "mimetype": "text/x-python",
   "name": "python",
   "nbconvert_exporter": "python",
   "pygments_lexer": "ipython3",
   "version": "3.9.13"
  }
 },
 "nbformat": 4,
 "nbformat_minor": 5
}
