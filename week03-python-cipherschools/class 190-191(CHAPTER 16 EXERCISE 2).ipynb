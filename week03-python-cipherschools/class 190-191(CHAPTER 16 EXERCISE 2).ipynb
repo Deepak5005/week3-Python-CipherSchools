{
 "cells": [
  {
   "cell_type": "code",
   "execution_count": 1,
   "id": "2c75792e",
   "metadata": {},
   "outputs": [
    {
     "name": "stdout",
     "output_type": "stream",
     "text": [
      "45000.0\n"
     ]
    }
   ],
   "source": [
    "# DISCOUNT OF 40% ON PRICE\n",
    "\n",
    "class Laptop:\n",
    "    def __init__(self,brand,model,price):\n",
    "        self.brand=brand\n",
    "        self.model=model\n",
    "        self.price=price\n",
    "        \n",
    "    def apply_discount(self,num):\n",
    "        off_price=(num/100)*self.price\n",
    "        return self.price - off_price\n",
    "        \n",
    "        \n",
    "l1=Laptop('Dell','Inspiron',50000)\n",
    "l2=Laptop('HP','i7',90000)\n",
    "print(l1.apply_discount(10))"
   ]
  },
  {
   "cell_type": "code",
   "execution_count": null,
   "id": "fb85bcc7",
   "metadata": {},
   "outputs": [],
   "source": []
  },
  {
   "cell_type": "code",
   "execution_count": 2,
   "id": "2ecc99d5",
   "metadata": {},
   "outputs": [
    {
     "name": "stdout",
     "output_type": "stream",
     "text": [
      "45000.0\n"
     ]
    }
   ],
   "source": [
    "\n",
    "class Laptop:\n",
    "    discont_percent =10\n",
    "    def __init__(self,brand,model,price):\n",
    "        self.brand=brand\n",
    "        self.model=model\n",
    "        self.price=price\n",
    "        \n",
    "    def apply_discount(self):\n",
    "        off_price=(Laptop.discont_percent/100)*self.price\n",
    "        return self.price - off_price\n",
    "        \n",
    "        \n",
    "l1=Laptop('Dell','Inspiron',50000)\n",
    "l2=Laptop('HP','i7',90000)\n",
    "print(l1.apply_discount())"
   ]
  },
  {
   "cell_type": "code",
   "execution_count": null,
   "id": "48416125",
   "metadata": {},
   "outputs": [],
   "source": [
    "# class 193\n",
    "# sale khatam abb 0 krna hai"
   ]
  },
  {
   "cell_type": "code",
   "execution_count": null,
   "id": "c509911b",
   "metadata": {},
   "outputs": [],
   "source": [
    "\n",
    "class Laptop:\n",
    "    discont_percent =10\n",
    "    def __init__(self,brand,model,price):\n",
    "        self.brand=brand\n",
    "        self.model=model\n",
    "        self.price=price\n",
    "        \n",
    "    def apply_discount(self):\n",
    "        off_price=(Laptop.discont_percent/100)*self.price\n",
    "        return self.price - off_price\n",
    "        \n",
    "Laptop.discount_percent=0        \n",
    "l1=Laptop('Dell','Inspiron',50000)\n",
    "l2=Laptop('HP','i7',90000)\n",
    "print(l1.apply_discount())\n"
   ]
  },
  {
   "cell_type": "code",
   "execution_count": null,
   "id": "044d6537",
   "metadata": {},
   "outputs": [],
   "source": []
  },
  {
   "cell_type": "code",
   "execution_count": 6,
   "id": "604ea11c",
   "metadata": {},
   "outputs": [
    {
     "name": "stdout",
     "output_type": "stream",
     "text": [
      "{'brand': 'Dell', 'model': 'Inspiron', 'price': 50000}\n"
     ]
    }
   ],
   "source": [
    "class Laptop:\n",
    "    discont_percent =10\n",
    "    def __init__(self,brand,model,price):\n",
    "        self.brand=brand\n",
    "        self.model=model\n",
    "        self.price=price\n",
    "        \n",
    "    def apply_discount(self):\n",
    "        off_price=(Laptop.discont_percent/100)*self.price\n",
    "        return self.price - off_price\n",
    "        \n",
    "Laptop.discount_percent=0        \n",
    "l1=Laptop('Dell','Inspiron',50000)\n",
    "l2=Laptop('HP','i7',90000)\n",
    "print(l1.__dict__)"
   ]
  },
  {
   "cell_type": "code",
   "execution_count": null,
   "id": "06ddc52d",
   "metadata": {},
   "outputs": [],
   "source": []
  },
  {
   "cell_type": "code",
   "execution_count": 7,
   "id": "542a9226",
   "metadata": {},
   "outputs": [
    {
     "name": "stdout",
     "output_type": "stream",
     "text": [
      "{'brand': 'HP', 'model': 'i7', 'price': 90000}\n",
      "81000.0\n"
     ]
    }
   ],
   "source": [
    "class Laptop:\n",
    "    discont_percent =10\n",
    "    def __init__(self,brand,model,price):\n",
    "        self.brand=brand\n",
    "        self.model=model\n",
    "        self.price=price\n",
    "        \n",
    "    def apply_discount(self):\n",
    "        off_price=(Laptop.discont_percent/100)*self.price\n",
    "        return self.price - off_price\n",
    "        \n",
    "Laptop.discount_percent=50    # but 10 percent is coming in outcome \n",
    "l1=Laptop('Dell','Inspiron',50000)\n",
    "l2=Laptop('HP','i7',90000)\n",
    "print(l2.__dict__)\n",
    "print(l2.apply_discount())"
   ]
  },
  {
   "cell_type": "code",
   "execution_count": null,
   "id": "ace14f61",
   "metadata": {},
   "outputs": [],
   "source": []
  },
  {
   "cell_type": "code",
   "execution_count": null,
   "id": "e04a10f2",
   "metadata": {},
   "outputs": [],
   "source": []
  },
  {
   "cell_type": "code",
   "execution_count": null,
   "id": "8fa8e17b",
   "metadata": {},
   "outputs": [],
   "source": []
  },
  {
   "cell_type": "code",
   "execution_count": null,
   "id": "542b6e06",
   "metadata": {},
   "outputs": [],
   "source": []
  },
  {
   "cell_type": "code",
   "execution_count": null,
   "id": "9cd23511",
   "metadata": {},
   "outputs": [],
   "source": []
  }
 ],
 "metadata": {
  "kernelspec": {
   "display_name": "Python 3 (ipykernel)",
   "language": "python",
   "name": "python3"
  },
  "language_info": {
   "codemirror_mode": {
    "name": "ipython",
    "version": 3
   },
   "file_extension": ".py",
   "mimetype": "text/x-python",
   "name": "python",
   "nbconvert_exporter": "python",
   "pygments_lexer": "ipython3",
   "version": "3.9.13"
  }
 },
 "nbformat": 4,
 "nbformat_minor": 5
}
