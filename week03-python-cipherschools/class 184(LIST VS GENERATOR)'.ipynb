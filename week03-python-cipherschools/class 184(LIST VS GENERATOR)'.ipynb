{
 "cells": [
  {
   "cell_type": "code",
   "execution_count": null,
   "id": "8cf71a8f",
   "metadata": {},
   "outputs": [],
   "source": [
    "# list vs generator\n",
    "# memory usage, time\n",
    "# when to use list , when to use generator \n"
   ]
  },
  {
   "cell_type": "code",
   "execution_count": null,
   "id": "2cb65e2f",
   "metadata": {},
   "outputs": [],
   "source": [
    "l=[i**2 for i in range(10000000)] # 10 million\n",
    "# we can check the memory in TASK MANAGER \n",
    "# it will take almost '400 MB'\n",
    "\n",
    "g=(i**2 for i in range(10000000))\n",
    "# it will not take this much memory because it will take one at a time\n"
   ]
  },
  {
   "cell_type": "code",
   "execution_count": 1,
   "id": "dedd9162",
   "metadata": {},
   "outputs": [
    {
     "name": "stdout",
     "output_type": "stream",
     "text": [
      "2.400595188140869\n"
     ]
    }
   ],
   "source": [
    "import time\n",
    "t1=time.time()\n",
    "l=[i**2 for i in range(10000000)]\n",
    "t2=time.time()\n",
    "print(t2-t1)\n"
   ]
  },
  {
   "cell_type": "code",
   "execution_count": 2,
   "id": "e5c4704f",
   "metadata": {},
   "outputs": [
    {
     "name": "stdout",
     "output_type": "stream",
     "text": [
      "0.12634897232055664\n"
     ]
    }
   ],
   "source": [
    "import time\n",
    "t1=time.time()\n",
    "l=(i**2 for i in range(10000000))\n",
    "t2=time.time()\n",
    "print(t2-t1)"
   ]
  },
  {
   "cell_type": "code",
   "execution_count": null,
   "id": "736e2da2",
   "metadata": {},
   "outputs": [],
   "source": []
  },
  {
   "cell_type": "code",
   "execution_count": null,
   "id": "f169240e",
   "metadata": {},
   "outputs": [],
   "source": []
  },
  {
   "cell_type": "code",
   "execution_count": null,
   "id": "a0c79438",
   "metadata": {},
   "outputs": [],
   "source": []
  }
 ],
 "metadata": {
  "kernelspec": {
   "display_name": "Python 3 (ipykernel)",
   "language": "python",
   "name": "python3"
  },
  "language_info": {
   "codemirror_mode": {
    "name": "ipython",
    "version": 3
   },
   "file_extension": ".py",
   "mimetype": "text/x-python",
   "name": "python",
   "nbconvert_exporter": "python",
   "pygments_lexer": "ipython3",
   "version": "3.9.13"
  }
 },
 "nbformat": 4,
 "nbformat_minor": 5
}
