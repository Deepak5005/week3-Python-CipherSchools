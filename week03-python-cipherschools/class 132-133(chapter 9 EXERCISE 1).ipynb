{
 "cells": [
  {
   "cell_type": "code",
   "execution_count": null,
   "id": "008d922e",
   "metadata": {},
   "outputs": [],
   "source": [
    "# define a function that take list of strings\n",
    "# list containing reverse of every string\n",
    "# NOTE - USE LIST COMPREHENSION because we already did this exercise\n",
    "# using normal method\n",
    "# example\n",
    "\n",
    "# 1 = ['abc', 'tuv', 'xyz'] \n",
    "# reverse_string(11) -> ['bac', 'vut', 'zyx']"
   ]
  },
  {
   "cell_type": "code",
   "execution_count": 17,
   "id": "bc9c00b6",
   "metadata": {},
   "outputs": [
    {
     "name": "stdout",
     "output_type": "stream",
     "text": [
      "['cba', 'vut']\n"
     ]
    }
   ],
   "source": [
    "def reverse_strings(l):\n",
    "    return[name[::-1] for name in l]\n",
    "print(reverse_strings(['abc','tuv']))"
   ]
  },
  {
   "cell_type": "code",
   "execution_count": 21,
   "id": "40238b9e",
   "metadata": {},
   "outputs": [
    {
     "name": "stdout",
     "output_type": "stream",
     "text": [
      "['cba', 'vut']\n"
     ]
    }
   ],
   "source": [
    "def strings(l):\n",
    "    new=[]\n",
    "    for i in l:\n",
    "        new.append(i[::-1])\n",
    "    return new \n",
    "print(strings(['abc','tuv']))"
   ]
  },
  {
   "cell_type": "code",
   "execution_count": null,
   "id": "efb133a7",
   "metadata": {},
   "outputs": [],
   "source": []
  }
 ],
 "metadata": {
  "kernelspec": {
   "display_name": "Python 3 (ipykernel)",
   "language": "python",
   "name": "python3"
  },
  "language_info": {
   "codemirror_mode": {
    "name": "ipython",
    "version": 3
   },
   "file_extension": ".py",
   "mimetype": "text/x-python",
   "name": "python",
   "nbconvert_exporter": "python",
   "pygments_lexer": "ipython3",
   "version": "3.9.13"
  }
 },
 "nbformat": 4,
 "nbformat_minor": 5
}
