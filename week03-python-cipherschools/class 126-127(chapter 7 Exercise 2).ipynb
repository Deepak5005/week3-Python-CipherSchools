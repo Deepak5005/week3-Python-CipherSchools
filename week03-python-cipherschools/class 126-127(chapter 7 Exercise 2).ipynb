{
 "cells": [
  {
   "cell_type": "code",
   "execution_count": null,
   "id": "cf33ad15",
   "metadata": {},
   "outputs": [],
   "source": [
    "users={\n",
    "    'name':'deepak'\n",
    "    'age':20\n",
    "    \"fav_movies\":['coco','harry potter']\n",
    "    \"fav_songs\":['song1','song2']\n",
    "}"
   ]
  },
  {
   "cell_type": "code",
   "execution_count": 1,
   "id": "39066a57",
   "metadata": {},
   "outputs": [
    {
     "name": "stdout",
     "output_type": "stream",
     "text": [
      "what is your name:isha\n",
      "what is your age:19\n",
      "what is your fav movies:coco,harrypotter\n",
      "what is your fav songs:love\n",
      "{'name': 'isha', 'age': '19', 'fav_movies': ['coco', 'harrypotter'], 'fav_songs': ['love']}\n"
     ]
    }
   ],
   "source": [
    "#solution\n",
    "user={}\n",
    "name=input(\"what is your name:\")\n",
    "age=input(\"what is your age:\")\n",
    "fav_movies=input(\"what is your fav movies:\").split(\",\")\n",
    "fav_songs=input(\"what is your fav songs:\").split(\",\")\n",
    "user['name']=name\n",
    "user['age']=age\n",
    "user['fav_movies']=fav_movies\n",
    "user['fav_songs']=fav_songs\n",
    "print(user)\n",
    "\n"
   ]
  },
  {
   "cell_type": "code",
   "execution_count": 2,
   "id": "6020e2f3",
   "metadata": {},
   "outputs": [
    {
     "name": "stdout",
     "output_type": "stream",
     "text": [
      "what is your name:isha\n",
      "what is your age:19\n",
      "what is your fav movies:coco ,m1\n",
      "what is your fav songs:m2,m3\n",
      "name:isha\n",
      "age:19\n",
      "fav_movies:['coco ', 'm1']\n",
      "fav_songs:['m2', 'm3']\n"
     ]
    }
   ],
   "source": [
    "user={}\n",
    "name=input(\"what is your name:\")\n",
    "age=input(\"what is your age:\")\n",
    "fav_movies=input(\"what is your fav movies:\").split(\",\")\n",
    "fav_songs=input(\"what is your fav songs:\").split(\",\")\n",
    "user['name']=name\n",
    "user['age']=age\n",
    "user['fav_movies']=fav_movies\n",
    "user['fav_songs']=fav_songs\n",
    "for key,value in user.items():\n",
    "    print(f\"{key}:{value}\")\n"
   ]
  },
  {
   "cell_type": "code",
   "execution_count": null,
   "id": "7b30a3b5",
   "metadata": {},
   "outputs": [],
   "source": []
  }
 ],
 "metadata": {
  "kernelspec": {
   "display_name": "Python 3",
   "language": "python",
   "name": "python3"
  },
  "language_info": {
   "codemirror_mode": {
    "name": "ipython",
    "version": 3
   },
   "file_extension": ".py",
   "mimetype": "text/x-python",
   "name": "python",
   "nbconvert_exporter": "python",
   "pygments_lexer": "ipython3",
   "version": "3.10.9 (tags/v3.10.9:1dd9be6, Dec  6 2022, 20:01:21) [MSC v.1934 64 bit (AMD64)]"
  },
  "vscode": {
   "interpreter": {
    "hash": "3d32b988a5afc41c9d0e32ed68d4c5b6206d0394aaccce84345c2a9bb221138d"
   }
  }
 },
 "nbformat": 4,
 "nbformat_minor": 5
}
