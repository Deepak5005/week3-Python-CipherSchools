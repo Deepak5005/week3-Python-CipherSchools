{
 "cells": [
  {
   "cell_type": "code",
   "execution_count": 3,
   "id": "6d42c003",
   "metadata": {},
   "outputs": [
    {
     "name": "stdout",
     "output_type": "stream",
     "text": [
      "Nokia 1100\n",
      "OnePlus 5\n",
      "OnePlus 5\n",
      "Help on class Smartphone in module __main__:\n",
      "\n",
      "class Smartphone(Phone)\n",
      " |  Smartphone(brand, model, price, ram, memory, rear_camera)\n",
      " |  \n",
      " |  Method resolution order:\n",
      " |      Smartphone\n",
      " |      Phone\n",
      " |      builtins.object\n",
      " |  \n",
      " |  Methods defined here:\n",
      " |  \n",
      " |  __init__(self, brand, model, price, ram, memory, rear_camera)\n",
      " |      Initialize self.  See help(type(self)) for accurate signature.\n",
      " |  \n",
      " |  ----------------------------------------------------------------------\n",
      " |  Methods inherited from Phone:\n",
      " |  \n",
      " |  full_name(self)\n",
      " |  \n",
      " |  make_a_call(self, phone_number)\n",
      " |  \n",
      " |  ----------------------------------------------------------------------\n",
      " |  Data descriptors inherited from Phone:\n",
      " |  \n",
      " |  __dict__\n",
      " |      dictionary for instance variables (if defined)\n",
      " |  \n",
      " |  __weakref__\n",
      " |      list of weak references to the object (if defined)\n",
      "\n",
      "None\n"
     ]
    }
   ],
   "source": [
    "class Phone: #base/parent class\n",
    "\n",
    "    def __init__(self,brand,model,price):\n",
    "        self.brand=brand\n",
    "        self.model=model\n",
    "        self.price=max(price,0)\n",
    "    \n",
    "    def make_a_call(self,phone_number):\n",
    "        print(f\"calling {phone_number}...\")\n",
    "        \n",
    "    def full_name(self):\n",
    "        return f\"{self.brand} {self.model}\"\n",
    "    \n",
    "class Smartphone(Phone): #child/derived class\n",
    "    \n",
    "    def __init__(self,brand,model,price,ram,memory,rear_camera):\n",
    "        #Phone.__init__(self,brand,model,price) #uncommon way\n",
    "        super().__init__ (brand,model,price) #common way       \n",
    "        self.ram=ram\n",
    "        self.memory=memory\n",
    "        self.rear_camera=rear_camera\n",
    "        \n",
    "class Flagshipphone(Smartphone):\n",
    "       def __init__(self,brand,model,price,ram,memory,rear_camera,front_camera):\n",
    "            super().__init__(brand,model,price,ram,memory,rear_camera)\n",
    "            self.front_camera= front_camera\n",
    "    \n",
    "\n",
    "    \n",
    " \n",
    "p=Phone('Nokia','1100',1000)\n",
    "s=Smartphone(\"OnePlus\",'5',30000,'6 GB','64 GB', '20 MP')\n",
    "f=Flagshipphone(\"OnePlus\",'5',30000,'6 GB','64 GB', '20 MP','16 MP')\n",
    "\n",
    "print(p.full_name())\n",
    "print(s.full_name())\n",
    "print(f.full_name())\n",
    "print(help(Smartphone))\n"
   ]
  },
  {
   "cell_type": "code",
   "execution_count": null,
   "id": "d7ae1460",
   "metadata": {},
   "outputs": [],
   "source": [
    "# can we derive more than one class from base class?\n",
    "\n",
    "# multilevel inheritance\n",
    "\n",
    "# method resolution order ---> help.(class name )\n",
    "\n",
    "# method overriding\n",
    "\n",
    "#isinstance(), issubclass()"
   ]
  },
  {
   "cell_type": "code",
   "execution_count": null,
   "id": "26d4a50b",
   "metadata": {},
   "outputs": [],
   "source": []
  },
  {
   "cell_type": "code",
   "execution_count": null,
   "id": "cada2bd0",
   "metadata": {},
   "outputs": [],
   "source": [
    "# method overriding"
   ]
  },
  {
   "cell_type": "code",
   "execution_count": 12,
   "id": "bb21e307",
   "metadata": {},
   "outputs": [
    {
     "name": "stdout",
     "output_type": "stream",
     "text": [
      "Nokia 1100\n",
      "OnePlus 5 and price is 30000\n",
      "realme 5 and price is 30000\n",
      "True\n",
      "True\n"
     ]
    }
   ],
   "source": [
    "class Phone: #base/parent class\n",
    "\n",
    "    def __init__(self,brand,model,price):\n",
    "        self.brand=brand\n",
    "        self.model=model\n",
    "        self.price=max(price,0)\n",
    "    \n",
    "    def make_a_call(self,phone_number):\n",
    "        print(f\"calling {phone_number}...\")\n",
    "        \n",
    "    def full_name(self):\n",
    "        return f\"{self.brand} {self.model}\"\n",
    "    \n",
    "class Smartphone(Phone): #child/derived class\n",
    "    \n",
    "    def __init__(self,brand,model,price,ram,memory,rear_camera):\n",
    "        #Phone.__init__(self,brand,model,price) #uncommon way\n",
    "        super().__init__ (brand,model,price) #common way       \n",
    "        self.ram=ram\n",
    "        self.memory=memory\n",
    "        self.rear_camera=rear_camera\n",
    "       \n",
    "    def full_name(self):\n",
    "        return f\"{self.brand} {self.model} and price is {self.price}\"\n",
    "        \n",
    "class Flagshipphone(Smartphone):\n",
    "       def __init__(self,brand,model,price,ram,memory,rear_camera,front_camera):\n",
    "            super().__init__(brand,model,price,ram,memory,rear_camera)\n",
    "            self.front_camera= front_camera\n",
    "    \n",
    "\n",
    "    \n",
    " \n",
    "p=Phone('Nokia','1100',1000)\n",
    "s=Smartphone(\"OnePlus\",'5',30000,'6 GB','64 GB', '20 MP')\n",
    "f=Flagshipphone('realme','5',30000,'6 GB','64 GB', '20 MP','16 MP')\n",
    "\n",
    "print(p.full_name())\n",
    "print(s.full_name())\n",
    "print(f.full_name())\n",
    "print(isinstance(s,Smartphone)) # s is the obejct of smartphone\n",
    "print(issubclass(Smartphone,Phone))\n",
    "\n"
   ]
  },
  {
   "cell_type": "code",
   "execution_count": null,
   "id": "1b1d0322",
   "metadata": {},
   "outputs": [],
   "source": []
  },
  {
   "cell_type": "code",
   "execution_count": null,
   "id": "f9d843e7",
   "metadata": {},
   "outputs": [],
   "source": [
    "#isistance "
   ]
  },
  {
   "cell_type": "code",
   "execution_count": null,
   "id": "44da2eab",
   "metadata": {},
   "outputs": [],
   "source": []
  },
  {
   "cell_type": "code",
   "execution_count": null,
   "id": "af19025b",
   "metadata": {},
   "outputs": [],
   "source": []
  },
  {
   "cell_type": "code",
   "execution_count": null,
   "id": "51ea8ba9",
   "metadata": {},
   "outputs": [],
   "source": []
  }
 ],
 "metadata": {
  "kernelspec": {
   "display_name": "Python 3 (ipykernel)",
   "language": "python",
   "name": "python3"
  },
  "language_info": {
   "codemirror_mode": {
    "name": "ipython",
    "version": 3
   },
   "file_extension": ".py",
   "mimetype": "text/x-python",
   "name": "python",
   "nbconvert_exporter": "python",
   "pygments_lexer": "ipython3",
   "version": "3.9.13"
  }
 },
 "nbformat": 4,
 "nbformat_minor": 5
}
