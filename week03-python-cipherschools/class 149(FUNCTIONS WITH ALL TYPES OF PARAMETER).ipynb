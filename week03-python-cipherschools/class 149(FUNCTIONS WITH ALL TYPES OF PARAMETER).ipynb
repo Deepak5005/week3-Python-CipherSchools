{
 "cells": [
  {
   "cell_type": "code",
   "execution_count": null,
   "id": "756bc7eb",
   "metadata": {},
   "outputs": [],
   "source": [
    "#paramters\n",
    "# *args\n",
    "# default parametrs\n",
    "# **kwargs\n",
    "# this is the sequence"
   ]
  },
  {
   "cell_type": "code",
   "execution_count": 4,
   "id": "36bd8bf2",
   "metadata": {},
   "outputs": [
    {
     "name": "stdout",
     "output_type": "stream",
     "text": [
      "isha 20\n"
     ]
    }
   ],
   "source": [
    "# default\n",
    "def func(name='unknown',age=19):\n",
    "    print(name,age)\n",
    "func('isha',20)"
   ]
  },
  {
   "cell_type": "code",
   "execution_count": 5,
   "id": "cf83669b",
   "metadata": {},
   "outputs": [
    {
     "name": "stdout",
     "output_type": "stream",
     "text": [
      "isha\n",
      "20\n"
     ]
    }
   ],
   "source": [
    "def func(name='unknown',age=19):\n",
    "    print(name)\n",
    "    print(age)\n",
    "func('isha',20)"
   ]
  },
  {
   "cell_type": "code",
   "execution_count": 9,
   "id": "8cb2fe2a",
   "metadata": {},
   "outputs": [
    {
     "name": "stdout",
     "output_type": "stream",
     "text": [
      "isha\n",
      "(1, 2, 3)\n",
      "unknown\n",
      "{'a': 1, 'b': 2}\n"
     ]
    }
   ],
   "source": [
    "def func(name,*args,last_name='unknown',**kwargs):\n",
    "    print(name)\n",
    "    print(args)\n",
    "    print(last_name)\n",
    "    print(kwargs)\n",
    "func(\"isha\",1,2,3,a=1,b=2)"
   ]
  },
  {
   "cell_type": "code",
   "execution_count": null,
   "id": "2a8ef3bc",
   "metadata": {},
   "outputs": [],
   "source": []
  }
 ],
 "metadata": {
  "kernelspec": {
   "display_name": "Python 3 (ipykernel)",
   "language": "python",
   "name": "python3"
  },
  "language_info": {
   "codemirror_mode": {
    "name": "ipython",
    "version": 3
   },
   "file_extension": ".py",
   "mimetype": "text/x-python",
   "name": "python",
   "nbconvert_exporter": "python",
   "pygments_lexer": "ipython3",
   "version": "3.9.13"
  }
 },
 "nbformat": 4,
 "nbformat_minor": 5
}
