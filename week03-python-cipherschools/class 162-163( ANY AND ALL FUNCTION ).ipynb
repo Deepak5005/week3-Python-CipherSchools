{
 "cells": [
  {
   "cell_type": "code",
   "execution_count": null,
   "id": "2df73f2a",
   "metadata": {},
   "outputs": [],
   "source": [
    "# any() and all(()) function\n",
    "# all -->> is only one will beacme false it will print false\n",
    "# any-->> if atleast one is true it will show true"
   ]
  },
  {
   "cell_type": "code",
   "execution_count": 6,
   "id": "4e0d854a",
   "metadata": {},
   "outputs": [
    {
     "name": "stdout",
     "output_type": "stream",
     "text": [
      "True\n"
     ]
    }
   ],
   "source": [
    "num1=[2,4,6,8,10]\n",
    "num2=[1,2,3,4,5,6]\n",
    "evens1=[]\n",
    "for num in num1:\n",
    "    evens1.append(num%2==0)\n",
    "    \n",
    "print(all([True, True, True, True, True]))\n",
    "    "
   ]
  },
  {
   "cell_type": "code",
   "execution_count": 7,
   "id": "e646523e",
   "metadata": {},
   "outputs": [
    {
     "name": "stdout",
     "output_type": "stream",
     "text": [
      "False\n"
     ]
    }
   ],
   "source": [
    "#all\n",
    "num1=[1,2,3,4,5,6,7,8,9]\n",
    "print(all([num%2==0 for num in num1]))"
   ]
  },
  {
   "cell_type": "code",
   "execution_count": 10,
   "id": "c10153aa",
   "metadata": {},
   "outputs": [
    {
     "name": "stdout",
     "output_type": "stream",
     "text": [
      "True\n"
     ]
    }
   ],
   "source": [
    "#any\n",
    "num1=[1,2,3,4,5,6,7,8,9]\n",
    "print(any([num%2==0 for num in num1]))"
   ]
  },
  {
   "cell_type": "code",
   "execution_count": 11,
   "id": "d3bb7316",
   "metadata": {},
   "outputs": [
    {
     "name": "stdout",
     "output_type": "stream",
     "text": [
      "True\n"
     ]
    }
   ],
   "source": [
    "num1=[2,4,6,8,10]\n",
    "print(all([num%2==0 for num in num1]))\n"
   ]
  },
  {
   "cell_type": "code",
   "execution_count": null,
   "id": "39f8e748",
   "metadata": {},
   "outputs": [],
   "source": [
    "# any all function practise class 163"
   ]
  },
  {
   "cell_type": "code",
   "execution_count": 12,
   "id": "abb3dbd1",
   "metadata": {},
   "outputs": [
    {
     "name": "stdout",
     "output_type": "stream",
     "text": [
      "10\n"
     ]
    }
   ],
   "source": [
    "def my_sum(*args):\n",
    "    total=0\n",
    "    for num in args:\n",
    "        total += num\n",
    "    return total\n",
    "print(my_sum(1,2,3,4))"
   ]
  },
  {
   "cell_type": "code",
   "execution_count": 23,
   "id": "c8a70bf2",
   "metadata": {},
   "outputs": [
    {
     "name": "stdout",
     "output_type": "stream",
     "text": [
      "wrong input\n"
     ]
    }
   ],
   "source": [
    "def my_sum(*args):\n",
    "    if all([(type(arg)==int or type(arg)==float)for arg in args]):\n",
    "        total=0\n",
    "        \n",
    "        for num in args:\n",
    "            total +=num\n",
    "            return total\n",
    "    else:\n",
    "           return \"wrong input\"\n",
    "\n",
    "        \n",
    "      \n",
    "print(my_sum(1,2,3,'isha',['abc']))"
   ]
  },
  {
   "cell_type": "code",
   "execution_count": 26,
   "id": "aa9928f1",
   "metadata": {},
   "outputs": [
    {
     "name": "stdout",
     "output_type": "stream",
     "text": [
      "1\n"
     ]
    }
   ],
   "source": []
  }
 ],
 "metadata": {
  "kernelspec": {
   "display_name": "Python 3 (ipykernel)",
   "language": "python",
   "name": "python3"
  },
  "language_info": {
   "codemirror_mode": {
    "name": "ipython",
    "version": 3
   },
   "file_extension": ".py",
   "mimetype": "text/x-python",
   "name": "python",
   "nbconvert_exporter": "python",
   "pygments_lexer": "ipython3",
   "version": "3.9.13"
  }
 },
 "nbformat": 4,
 "nbformat_minor": 5
}
