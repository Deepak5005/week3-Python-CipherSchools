{
 "cells": [
  {
   "cell_type": "code",
   "execution_count": null,
   "id": "8a1952ce",
   "metadata": {},
   "outputs": [],
   "source": [
    "# define generator function\n",
    "# take one number as an argument\n",
    "# generate a sequence of even numbers from 1 to that number\n",
    "# 5 --> 2,4\n",
    "# 7 --> 2,4,6"
   ]
  },
  {
   "cell_type": "code",
   "execution_count": 4,
   "id": "88582ec1",
   "metadata": {},
   "outputs": [
    {
     "name": "stdout",
     "output_type": "stream",
     "text": [
      "<generator object even_generator at 0x000001CFA4803AC0>\n",
      "2\n",
      "4\n",
      "6\n",
      "8\n",
      "10\n",
      "12\n",
      "14\n",
      "16\n",
      "18\n",
      "20\n",
      "2\n",
      "4\n",
      "6\n",
      "8\n",
      "10\n",
      "12\n",
      "14\n"
     ]
    }
   ],
   "source": [
    "def even_generator(n):\n",
    "    for i in range(1,n+1):\n",
    "        if i%2==0:\n",
    "            yield i\n",
    "print(even_generator(20))\n",
    "for num in even_generator(20):\n",
    "    print(num)\n",
    "for num in even_generator(15):\n",
    "    print(num)\n",
    "    \n",
    "    \n",
    "    "
   ]
  },
  {
   "cell_type": "code",
   "execution_count": 6,
   "id": "029fa8b7",
   "metadata": {},
   "outputs": [
    {
     "name": "stdout",
     "output_type": "stream",
     "text": [
      "<generator object even_generator at 0x000001CFA4803E40>\n",
      "2\n",
      "4\n",
      "6\n",
      "8\n",
      "10\n",
      "12\n",
      "14\n",
      "16\n",
      "18\n",
      "20\n"
     ]
    }
   ],
   "source": [
    "def even_generator(n):\n",
    "    for i in range(1,n+1):\n",
    "        if i%2==0:\n",
    "            yield i\n",
    "print(even_generator(20))\n",
    "even_nums=even_generator(20)\n",
    "for num in even_nums:\n",
    "    print(num)\n",
    "for num in even_nums: # it will not print\n",
    "    print(num)"
   ]
  },
  {
   "cell_type": "code",
   "execution_count": 9,
   "id": "3f1cdb03",
   "metadata": {},
   "outputs": [
    {
     "name": "stdout",
     "output_type": "stream",
     "text": [
      "<generator object even_generator at 0x000001CFA48BA2E0>\n",
      "2\n",
      "4\n",
      "6\n",
      "8\n",
      "10\n",
      "12\n",
      "14\n",
      "16\n",
      "18\n",
      "20\n",
      "2\n",
      "4\n",
      "6\n",
      "8\n",
      "10\n",
      "12\n",
      "14\n"
     ]
    }
   ],
   "source": [
    "def even_generator(n):\n",
    "    for i in range(2,n+1,2): # 2 is a step argument then we dont have to use the if n%2==0 line\n",
    "       \n",
    "            yield i\n",
    "print(even_generator(20))\n",
    "for num in even_generator(20):\n",
    "    print(num)\n",
    "for num in even_generator(15):\n",
    "    print(num)\n",
    "    "
   ]
  },
  {
   "cell_type": "code",
   "execution_count": null,
   "id": "ece66892",
   "metadata": {},
   "outputs": [],
   "source": []
  },
  {
   "cell_type": "code",
   "execution_count": null,
   "id": "5a472703",
   "metadata": {},
   "outputs": [],
   "source": []
  }
 ],
 "metadata": {
  "kernelspec": {
   "display_name": "Python 3 (ipykernel)",
   "language": "python",
   "name": "python3"
  },
  "language_info": {
   "codemirror_mode": {
    "name": "ipython",
    "version": 3
   },
   "file_extension": ".py",
   "mimetype": "text/x-python",
   "name": "python",
   "nbconvert_exporter": "python",
   "pygments_lexer": "ipython3",
   "version": "3.9.13"
  }
 },
 "nbformat": 4,
 "nbformat_minor": 5
}
