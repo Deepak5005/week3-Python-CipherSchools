{
 "cells": [
  {
   "cell_type": "code",
   "execution_count": 8,
   "id": "3266f0fe",
   "metadata": {},
   "outputs": [
    {
     "name": "stdout",
     "output_type": "stream",
     "text": [
      "['apple', 'grapes', 'mango']\n",
      "['apple', 'grapes', 'mango']\n",
      "['apple', 'grapes', 'mango']\n",
      "[{'model': 'taylor 814ce', 'price': 450000}, {'model': 'faith naptune', 'price': 50000}, {'model': 'faith apollo venus', 'price': 35000}, {'model': 'yamaha f310', 'price': 8400}]\n"
     ]
    }
   ],
   "source": [
    "fruits = ['grapes', 'mango', 'apple']\n",
    "# sort -->> according to alphabets\n",
    "fruits.sort()\n",
    "print(fruits)\n",
    "\n",
    "#tuples \n",
    "fruits2 =('grapes','mango', 'apple')\n",
    "a=sorted(fruits)\n",
    "print(a)\n",
    "\n",
    "# sets\n",
    "fruits3 = {'grapes','mango', 'apple'}\n",
    "print(sorted(fruits3))\n",
    "\n",
    "\n",
    "guitars = [\n",
    "    {'model': 'yamaha f310', 'price':8400}, \n",
    "    {\"model\": \"faith naptune\", 'price':50000 },\n",
    "    {'model': 'faith apollo venus', 'price': 35000},\n",
    "    {'model': 'taylor 814ce', 'price': 450000}\n",
    "]\n",
    "print(sorted(guitars,key= lambda d: d['price'],reverse=True))\n",
    "# reverse true means highest price will come first then the minimum\n"
   ]
  },
  {
   "cell_type": "code",
   "execution_count": null,
   "id": "2b387589",
   "metadata": {},
   "outputs": [],
   "source": []
  },
  {
   "cell_type": "code",
   "execution_count": null,
   "id": "bd8bcfec",
   "metadata": {},
   "outputs": [],
   "source": []
  },
  {
   "cell_type": "code",
   "execution_count": null,
   "id": "f7e3088a",
   "metadata": {},
   "outputs": [],
   "source": []
  },
  {
   "cell_type": "code",
   "execution_count": null,
   "id": "5ffd5554",
   "metadata": {},
   "outputs": [],
   "source": []
  }
 ],
 "metadata": {
  "kernelspec": {
   "display_name": "Python 3 (ipykernel)",
   "language": "python",
   "name": "python3"
  },
  "language_info": {
   "codemirror_mode": {
    "name": "ipython",
    "version": 3
   },
   "file_extension": ".py",
   "mimetype": "text/x-python",
   "name": "python",
   "nbconvert_exporter": "python",
   "pygments_lexer": "ipython3",
   "version": "3.9.13"
  }
 },
 "nbformat": 4,
 "nbformat_minor": 5
}
