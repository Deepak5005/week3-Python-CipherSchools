{
 "cells": [
  {
   "cell_type": "code",
   "execution_count": 1,
   "id": "f18f238a",
   "metadata": {},
   "outputs": [
    {
     "name": "stdout",
     "output_type": "stream",
     "text": [
      "Athira ABC\n"
     ]
    }
   ],
   "source": [
    "class Person:\n",
    "    count_instance=0  #classs variable / class attribute\n",
    "    def __init__(self, first_name,last_name,age):\n",
    "        Person.count_instance +=1\n",
    "        self.first_name=first_name\n",
    "        self.last_name=last_name\n",
    "        self.age=age\n",
    "        \n",
    "    @classmethod\n",
    "    def from_str(cls,string):\n",
    "        first,last,age=string.split(\",\")\n",
    "        return cls(first,last,age)\n",
    "        \n",
    "    @classmethod\n",
    "    def count_instances(cls):\n",
    "        return f\" you have created {cls.count_instance} instances of person class\"\n",
    "    def full_name(self):\n",
    "        return f\"{self.first_name} {self.last_name}\"\n",
    "    \n",
    "    def is_above_18(self):\n",
    "        return self.age>18\n",
    "\n",
    "p1=Person(\"Isha\",'Verma',19)\n",
    "p2=Person(\"abc\",'adc',19)\n",
    "p3=Person.from_str(\"Athira,ABC,17\")\n",
    "print(p3.full_name())"
   ]
  },
  {
   "cell_type": "code",
   "execution_count": null,
   "id": "3f61d578",
   "metadata": {},
   "outputs": [],
   "source": []
  },
  {
   "cell_type": "code",
   "execution_count": null,
   "id": "4692365e",
   "metadata": {},
   "outputs": [],
   "source": [
    "# class 198 \n",
    "# OOP STATIC METHOD "
   ]
  },
  {
   "cell_type": "code",
   "execution_count": 9,
   "id": "6d7c9ed0",
   "metadata": {},
   "outputs": [],
   "source": [
    "class Person:\n",
    "    count_instance=0  #classs variable / class attribute\n",
    "    def __init__(self, first_name,last_name,age):\n",
    "        Person.count_instance +=1\n",
    "        self.first_name=first_name\n",
    "        self.last_name=last_name\n",
    "        self.age=age\n",
    "        \n",
    "    @classmethod\n",
    "    def from_str(cls,string):\n",
    "        first,last,age=string.split(\",\")\n",
    "        return cls(first,last,age)\n",
    "        \n",
    "    @classmethod\n",
    "    def count_instances(cls):\n",
    "        return f\" you have created {cls.count_instance} instances of person class\"\n",
    "    \n",
    "    \n",
    "    @staticmethod\n",
    "    def hello():\n",
    "        print(\"hello, static method called\")\n",
    "        \n",
    "        \n",
    "    def full_name(self):\n",
    "        return f\"{self.first_name} {self.last_name}\"\n",
    "\n",
    "p1=Person(\"Isha\",'Verma',19)\n",
    "p2=Person(\"abc\",'dcv',19)\n",
    "\n"
   ]
  },
  {
   "cell_type": "code",
   "execution_count": null,
   "id": "26132d25",
   "metadata": {},
   "outputs": [],
   "source": []
  },
  {
   "cell_type": "code",
   "execution_count": null,
   "id": "31c1167a",
   "metadata": {},
   "outputs": [],
   "source": []
  }
 ],
 "metadata": {
  "kernelspec": {
   "display_name": "Python 3 (ipykernel)",
   "language": "python",
   "name": "python3"
  },
  "language_info": {
   "codemirror_mode": {
    "name": "ipython",
    "version": 3
   },
   "file_extension": ".py",
   "mimetype": "text/x-python",
   "name": "python",
   "nbconvert_exporter": "python",
   "pygments_lexer": "ipython3",
   "version": "3.9.13"
  }
 },
 "nbformat": 4,
 "nbformat_minor": 5
}
