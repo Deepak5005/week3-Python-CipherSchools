{
 "cells": [
  {
   "cell_type": "code",
   "execution_count": null,
   "id": "8c73dae3",
   "metadata": {},
   "outputs": [],
   "source": [
    "#define a function \n",
    "#input\n",
    "\n",
    "#num, iterable(tuple, list) containing numbers as args\n",
    "\n",
    "# example\n",
    "\n",
    "#nums=[1,2,3] \n",
    "#to power (3,\"nums) \n",
    "\n",
    "\n",
    "#output\n",
    "\n",
    "# list [13, 8, 27]\n",
    "\n",
    "# if user didn't pass any args then give a user a message 'hey you did't pass\n",
    "\n",
    "#args\n",
    "\n",
    "# else\n",
    "\n",
    "# return list\n",
    "\n",
    "#NOTE USE list comprehension"
   ]
  },
  {
   "cell_type": "code",
   "execution_count": null,
   "id": "57ae2398",
   "metadata": {},
   "outputs": [],
   "source": []
  },
  {
   "cell_type": "code",
   "execution_count": 3,
   "id": "34482c32",
   "metadata": {},
   "outputs": [
    {
     "name": "stdout",
     "output_type": "stream",
     "text": [
      "not empty\n"
     ]
    }
   ],
   "source": [
    "l=[1,2,3]\n",
    "if l:\n",
    "    print(\"not empty\")\n",
    "else:\n",
    "    print(\"empty\")"
   ]
  },
  {
   "cell_type": "code",
   "execution_count": 7,
   "id": "0baedf5a",
   "metadata": {},
   "outputs": [
    {
     "name": "stdout",
     "output_type": "stream",
     "text": [
      "[1, 8, 27]\n"
     ]
    }
   ],
   "source": [
    "def power(num,*args):\n",
    "    if args:\n",
    "        return [i**num for i in args]\n",
    "    else:\n",
    "        return \"you didnt pass any args\"\n",
    "nums=[1,2,3]\n",
    "print(power(3,*nums))"
   ]
  },
  {
   "cell_type": "code",
   "execution_count": null,
   "id": "2892dabf",
   "metadata": {},
   "outputs": [],
   "source": []
  },
  {
   "cell_type": "code",
   "execution_count": null,
   "id": "5c520ed5",
   "metadata": {},
   "outputs": [],
   "source": []
  },
  {
   "cell_type": "code",
   "execution_count": null,
   "id": "dc220cfc",
   "metadata": {},
   "outputs": [],
   "source": []
  }
 ],
 "metadata": {
  "kernelspec": {
   "display_name": "Python 3 (ipykernel)",
   "language": "python",
   "name": "python3"
  },
  "language_info": {
   "codemirror_mode": {
    "name": "ipython",
    "version": 3
   },
   "file_extension": ".py",
   "mimetype": "text/x-python",
   "name": "python",
   "nbconvert_exporter": "python",
   "pygments_lexer": "ipython3",
   "version": "3.9.13"
  }
 },
 "nbformat": 4,
 "nbformat_minor": 5
}
