{
 "cells": [
  {
   "cell_type": "code",
   "execution_count": 1,
   "id": "17388d9c",
   "metadata": {},
   "outputs": [
    {
     "name": "stdout",
     "output_type": "stream",
     "text": [
      "15\n"
     ]
    }
   ],
   "source": [
    "def add_all(*args):\n",
    "    total=0\n",
    "    for i in args:\n",
    "        total += i\n",
    "    return total\n",
    "print(add_all(1,2,3,4,5))"
   ]
  },
  {
   "cell_type": "code",
   "execution_count": 3,
   "id": "b4f2341e",
   "metadata": {},
   "outputs": [
    {
     "name": "stdout",
     "output_type": "stream",
     "text": [
      "15\n"
     ]
    }
   ],
   "source": [
    "def add_all(*args):\n",
    "    total=0\n",
    "    for i in args:\n",
    "        total += i\n",
    "    return total\n",
    "print(add_all(1,2,3,4,5,[1,2,3])) # this will show a problem and to solve this we need to use the decorators"
   ]
  },
  {
   "cell_type": "code",
   "execution_count": 4,
   "id": "03fece49",
   "metadata": {},
   "outputs": [
    {
     "name": "stdout",
     "output_type": "stream",
     "text": [
      "Invalid arguments\n",
      "None\n"
     ]
    }
   ],
   "source": [
    "# only_int_allow\n",
    "from functools import wraps\n",
    "def only_int_allow(function):\n",
    "    @wraps(function)\n",
    "    def wrapper(*args,**kwargs):\n",
    "        data_types=[]\n",
    "        for arg in args:\n",
    "            data_types.append(type(arg)==int)\n",
    "        if all(data_types):\n",
    "            return function(*args,**kwargs)\n",
    "        else:\n",
    "            print(\"Invalid arguments\")\n",
    "    return wrapper        \n",
    "@only_int_allow  \n",
    "def add_all(*args):\n",
    "    total=0\n",
    "    for i in args:\n",
    "        total += i\n",
    "    return total\n",
    "print(add_all(1,2,3,4,5,[1,2,3]))\n",
    "            "
   ]
  },
  {
   "cell_type": "code",
   "execution_count": 6,
   "id": "58766fe6",
   "metadata": {},
   "outputs": [
    {
     "name": "stdout",
     "output_type": "stream",
     "text": [
      "invalid arguments\n",
      "None\n"
     ]
    }
   ],
   "source": [
    "from functools import wraps\n",
    "def only_int_allow(function):\n",
    "    @wraps(function)\n",
    "    def wrapper(*args,**kwargs):\n",
    "        if all([type(arg)==int for arg in args]):\n",
    "            return function(*args,**kwargs)\n",
    "        print(\"invalid arguments\")\n",
    "\n",
    "    return wrapper        \n",
    "@only_int_allow  \n",
    "def add_all(*args):\n",
    "    total=0\n",
    "    for i in args:\n",
    "        total += i\n",
    "    return total\n",
    "print(add_all(1,2,3,4,5,[1,2,3]))"
   ]
  },
  {
   "cell_type": "code",
   "execution_count": null,
   "id": "20b89d3c",
   "metadata": {},
   "outputs": [],
   "source": []
  },
  {
   "cell_type": "code",
   "execution_count": null,
   "id": "7d9ca357",
   "metadata": {},
   "outputs": [],
   "source": []
  }
 ],
 "metadata": {
  "kernelspec": {
   "display_name": "Python 3 (ipykernel)",
   "language": "python",
   "name": "python3"
  },
  "language_info": {
   "codemirror_mode": {
    "name": "ipython",
    "version": 3
   },
   "file_extension": ".py",
   "mimetype": "text/x-python",
   "name": "python",
   "nbconvert_exporter": "python",
   "pygments_lexer": "ipython3",
   "version": "3.9.13"
  }
 },
 "nbformat": 4,
 "nbformat_minor": 5
}
