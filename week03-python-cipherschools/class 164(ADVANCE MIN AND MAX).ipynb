{
 "cells": [
  {
   "cell_type": "code",
   "execution_count": 19,
   "id": "4d088066",
   "metadata": {},
   "outputs": [
    {
     "name": "stdout",
     "output_type": "stream",
     "text": [
      "Harshit\n",
      "ab\n",
      "isha\n",
      "rohit\n",
      "{'name': 'rohit', 'score': 98, 'age': 34}\n",
      "rohit\n",
      "{'name': 'mohit', 'score': 9, 'age': 94}\n",
      "mohit\n"
     ]
    }
   ],
   "source": [
    "# advance min() and max()\n",
    "\n",
    "# numbers = [1,2,4,5,7] print(min(numbers))\n",
    "def func(item):\n",
    "    return len(item)\n",
    "names = ['Harshit', 'Mohit', 'ab']\n",
    "print(max(names,key=func))\n",
    "print(min(names,key=func))\n",
    "students = {\n",
    "    'isha': {'score':90, 'age':19},\n",
    "    'mohit': {'score':5, 'age':16},\n",
    "    'rohit': {'score':76, 'age': 23}\n",
    "}\n",
    "print(max(students, key=lambda item: students[item]['score']))\n",
    "print(max(students, key=lambda item: students[item]['age']))\n",
    "\n",
    "students2 =[\n",
    "     {'name': 'harshit', 'score':90, 'age':24},\n",
    "     {'name': 'mohit', 'score':9, 'age':94},\n",
    "     {'name':'rohit', 'score':98, 'age':34}\n",
    "    ]\n",
    "print(max(students2, key=lambda item:item.get(\"score\")))\n",
    "print(max(students2,key=lambda item:item.get(\"score\"))['name'])\n",
    "print(max(students2, key=lambda item:item.get(\"age\")))\n",
    "print(max(students2,key=lambda item:item.get(\"age\"))['name'])\n",
    "\n"
   ]
  },
  {
   "cell_type": "code",
   "execution_count": 7,
   "id": "483c775c",
   "metadata": {},
   "outputs": [
    {
     "name": "stdout",
     "output_type": "stream",
     "text": [
      "Harshit\n",
      "ab\n"
     ]
    }
   ],
   "source": [
    "# or \n",
    "names = ['Harshit', 'Mohit', 'ab']\n",
    "print(max(names,key=lambda item : len(item)))\n",
    "print(min(names,key=lambda item : len(item)))\n"
   ]
  },
  {
   "cell_type": "code",
   "execution_count": null,
   "id": "e2cb6f96",
   "metadata": {},
   "outputs": [],
   "source": []
  },
  {
   "cell_type": "code",
   "execution_count": null,
   "id": "20cf16be",
   "metadata": {},
   "outputs": [],
   "source": []
  },
  {
   "cell_type": "code",
   "execution_count": null,
   "id": "59a2c6d4",
   "metadata": {},
   "outputs": [],
   "source": []
  },
  {
   "cell_type": "code",
   "execution_count": null,
   "id": "236ba415",
   "metadata": {},
   "outputs": [],
   "source": []
  },
  {
   "cell_type": "code",
   "execution_count": null,
   "id": "d139db63",
   "metadata": {},
   "outputs": [],
   "source": []
  },
  {
   "cell_type": "code",
   "execution_count": null,
   "id": "136fd8fe",
   "metadata": {},
   "outputs": [],
   "source": []
  },
  {
   "cell_type": "code",
   "execution_count": null,
   "id": "4cd7d3e7",
   "metadata": {},
   "outputs": [],
   "source": []
  },
  {
   "cell_type": "code",
   "execution_count": null,
   "id": "407d1cfb",
   "metadata": {},
   "outputs": [],
   "source": []
  },
  {
   "cell_type": "code",
   "execution_count": null,
   "id": "6a34e2a8",
   "metadata": {},
   "outputs": [],
   "source": []
  },
  {
   "cell_type": "code",
   "execution_count": null,
   "id": "024e8e9d",
   "metadata": {},
   "outputs": [],
   "source": []
  }
 ],
 "metadata": {
  "kernelspec": {
   "display_name": "Python 3 (ipykernel)",
   "language": "python",
   "name": "python3"
  },
  "language_info": {
   "codemirror_mode": {
    "name": "ipython",
    "version": 3
   },
   "file_extension": ".py",
   "mimetype": "text/x-python",
   "name": "python",
   "nbconvert_exporter": "python",
   "pygments_lexer": "ipython3",
   "version": "3.9.13"
  }
 },
 "nbformat": 4,
 "nbformat_minor": 5
}
