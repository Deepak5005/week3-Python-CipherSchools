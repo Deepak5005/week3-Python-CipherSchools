{
 "cells": [
  {
   "cell_type": "code",
   "execution_count": 1,
   "id": "7d1dddf3",
   "metadata": {},
   "outputs": [
    {
     "name": "stdout",
     "output_type": "stream",
     "text": [
      "{'h': 2, 'a': 1}\n"
     ]
    }
   ],
   "source": [
    "#word counter\n",
    "d={'h':2, 'a':1, 'h':2}\n",
    "print(d)\n"
   ]
  },
  {
   "cell_type": "code",
   "execution_count": 2,
   "id": "d17929c8",
   "metadata": {},
   "outputs": [
    {
     "name": "stdout",
     "output_type": "stream",
     "text": [
      "{'i': 1, 's': 1, 'h': 1, 'a': 1}\n"
     ]
    }
   ],
   "source": [
    "def word_counter(s):\n",
    "    count={}\n",
    "    for char in s:\n",
    "        count[char]=s.count(char)\n",
    "    return count\n",
    "print(word_counter(\"isha\"))"
   ]
  },
  {
   "cell_type": "code",
   "execution_count": null,
   "id": "5fe65079",
   "metadata": {},
   "outputs": [],
   "source": []
  },
  {
   "cell_type": "code",
   "execution_count": null,
   "id": "9cfdb596",
   "metadata": {},
   "outputs": [],
   "source": []
  },
  {
   "cell_type": "code",
   "execution_count": null,
   "id": "374dd228",
   "metadata": {},
   "outputs": [],
   "source": []
  },
  {
   "cell_type": "code",
   "execution_count": null,
   "id": "33ffdac3",
   "metadata": {},
   "outputs": [],
   "source": []
  },
  {
   "cell_type": "code",
   "execution_count": null,
   "id": "250c55a5",
   "metadata": {},
   "outputs": [],
   "source": []
  }
 ],
 "metadata": {
  "kernelspec": {
   "display_name": "Python 3",
   "language": "python",
   "name": "python3"
  },
  "language_info": {
   "codemirror_mode": {
    "name": "ipython",
    "version": 3
   },
   "file_extension": ".py",
   "mimetype": "text/x-python",
   "name": "python",
   "nbconvert_exporter": "python",
   "pygments_lexer": "ipython3",
   "version": "3.10.9 (tags/v3.10.9:1dd9be6, Dec  6 2022, 20:01:21) [MSC v.1934 64 bit (AMD64)]"
  },
  "vscode": {
   "interpreter": {
    "hash": "3d32b988a5afc41c9d0e32ed68d4c5b6206d0394aaccce84345c2a9bb221138d"
   }
  }
 },
 "nbformat": 4,
 "nbformat_minor": 5
}
