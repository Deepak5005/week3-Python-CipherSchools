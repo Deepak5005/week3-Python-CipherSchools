{
 "cells": [
  {
   "cell_type": "code",
   "execution_count": null,
   "id": "ffa025e8",
   "metadata": {},
   "outputs": [],
   "source": [
    "# lambda expression practicee"
   ]
  },
  {
   "cell_type": "code",
   "execution_count": 1,
   "id": "9fd45db6",
   "metadata": {},
   "outputs": [
    {
     "name": "stdout",
     "output_type": "stream",
     "text": [
      "True\n"
     ]
    }
   ],
   "source": [
    "def even(a):\n",
    "    if a%2 ==0:\n",
    "        return True\n",
    "    else:\n",
    "        return False\n",
    "# or\n",
    "def is_even(a):\n",
    "    return a%2==0 \n",
    "print(is_even(4))"
   ]
  },
  {
   "cell_type": "code",
   "execution_count": 2,
   "id": "79a1884b",
   "metadata": {},
   "outputs": [
    {
     "name": "stdout",
     "output_type": "stream",
     "text": [
      "True\n"
     ]
    }
   ],
   "source": [
    "iseven= lambda a: a%2==0\n",
    "print(iseven(4))"
   ]
  },
  {
   "cell_type": "code",
   "execution_count": 5,
   "id": "59572596",
   "metadata": {},
   "outputs": [
    {
     "name": "stdout",
     "output_type": "stream",
     "text": [
      "a\n",
      "a\n"
     ]
    }
   ],
   "source": [
    "def last_char(s):\n",
    "    return s[-1]\n",
    "print(last_char('isha'))\n",
    "\n",
    "\n",
    "last_char1= lambda s: s[-1]\n",
    "print(last_char1('verma'))"
   ]
  },
  {
   "cell_type": "code",
   "execution_count": 8,
   "id": "248e310d",
   "metadata": {},
   "outputs": [
    {
     "name": "stdout",
     "output_type": "stream",
     "text": [
      "False\n",
      "True\n"
     ]
    }
   ],
   "source": [
    "# if else\n",
    "def func(s):\n",
    "    if len(s)>5:\n",
    "        return True\n",
    "    return False\n",
    "print(func(\"ish\"))\n",
    "\n",
    "funct=lambda s: True if len(s)>5 else False\n",
    "print(funct(\"ishaverma\"))"
   ]
  },
  {
   "cell_type": "code",
   "execution_count": 12,
   "id": "204eaac0",
   "metadata": {},
   "outputs": [
    {
     "name": "stdout",
     "output_type": "stream",
     "text": [
      "False\n",
      "True\n"
     ]
    }
   ],
   "source": [
    "# without if else\n",
    "def func(s):\n",
    "    return len(s)>5\n",
    "print(func(\"ish\"))\n",
    "\n",
    "a=lambda s: len(s)>5\n",
    "print(a(\"ishaverma\"))\n"
   ]
  },
  {
   "cell_type": "code",
   "execution_count": null,
   "id": "8aeb0902",
   "metadata": {},
   "outputs": [],
   "source": []
  },
  {
   "cell_type": "code",
   "execution_count": null,
   "id": "fc2581c6",
   "metadata": {},
   "outputs": [],
   "source": []
  }
 ],
 "metadata": {
  "kernelspec": {
   "display_name": "Python 3 (ipykernel)",
   "language": "python",
   "name": "python3"
  },
  "language_info": {
   "codemirror_mode": {
    "name": "ipython",
    "version": 3
   },
   "file_extension": ".py",
   "mimetype": "text/x-python",
   "name": "python",
   "nbconvert_exporter": "python",
   "pygments_lexer": "ipython3",
   "version": "3.9.13"
  }
 },
 "nbformat": 4,
 "nbformat_minor": 5
}
