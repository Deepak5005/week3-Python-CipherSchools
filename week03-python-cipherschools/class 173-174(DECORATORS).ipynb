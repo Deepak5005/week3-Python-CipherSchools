{
 "cells": [
  {
   "cell_type": "code",
   "execution_count": 5,
   "id": "cd1a4807",
   "metadata": {},
   "outputs": [
    {
     "name": "stdout",
     "output_type": "stream",
     "text": [
      "this is add functional\n",
      "add\n"
     ]
    }
   ],
   "source": [
    "from functools import wraps\n",
    "\n",
    "def decorator(any_function):\n",
    "    @wraps(any_function)\n",
    "    def wrapper_function(*args,**kwargs):\n",
    "        '''this is wrapper function'''\n",
    "        print(\"this is awesome functional\") \n",
    "        any_function(*args,**kwargs)\n",
    "    return wrapper_function\n",
    "@decorator\n",
    "def add(a,b):\n",
    "    '''this is add functional'''\n",
    "    return a+b\n",
    "print(add.__doc__)\n",
    "print(add.__name__)"
   ]
  },
  {
   "cell_type": "code",
   "execution_count": 7,
   "id": "6a12e49d",
   "metadata": {},
   "outputs": [
    {
     "name": "stdout",
     "output_type": "stream",
     "text": [
      "this is wrapper function\n",
      "wrapper_function\n"
     ]
    }
   ],
   "source": [
    "def decorator(any_function):\n",
    "\n",
    "    def wrapper_function(*args,**kwargs):\n",
    "        '''this is wrapper function'''\n",
    "        print(\"this is awesome functional\") \n",
    "        any_function(*args,**kwargs)\n",
    "    return wrapper_function\n",
    "@decorator\n",
    "def add(a,b):\n",
    "    '''this is add functional'''\n",
    "    return a+b\n",
    "print(add.__doc__)\n",
    "print(add.__name__)"
   ]
  },
  {
   "cell_type": "code",
   "execution_count": null,
   "id": "7ed9fb50",
   "metadata": {},
   "outputs": [],
   "source": [
    "# class 174"
   ]
  },
  {
   "cell_type": "code",
   "execution_count": 1,
   "id": "89592bec",
   "metadata": {},
   "outputs": [
    {
     "name": "stdout",
     "output_type": "stream",
     "text": [
      "you are calling add\n",
      "This function takes two numbers as arguments and return their sum\n",
      "9\n"
     ]
    }
   ],
   "source": [
    "from functools import wraps\n",
    "def print_function_data(function):\n",
    "    @wraps(function)\n",
    "    def wrapper(*args,**kwargs):\n",
    "        print(f\"you are calling {function.__name__}\")\n",
    "        print(f\"{function.__doc__}\")\n",
    "        return function(*args,**kwargs)\n",
    "    return wrapper\n",
    "        \n",
    "\n",
    "\n",
    "@print_function_data\n",
    "def add(a,b):\n",
    "    '''This function takes two numbers as arguments and return their sum''' \n",
    "    return a+b\n",
    "print(add(4,5))\n",
    "\n",
    "# output\n",
    "# you are calling add function\n",
    "#This function takes two numbers as parameters and return their sum\n",
    "#9"
   ]
  },
  {
   "cell_type": "code",
   "execution_count": null,
   "id": "d7812a20",
   "metadata": {},
   "outputs": [],
   "source": []
  },
  {
   "cell_type": "code",
   "execution_count": null,
   "id": "832f5ba9",
   "metadata": {},
   "outputs": [],
   "source": []
  }
 ],
 "metadata": {
  "kernelspec": {
   "display_name": "Python 3 (ipykernel)",
   "language": "python",
   "name": "python3"
  },
  "language_info": {
   "codemirror_mode": {
    "name": "ipython",
    "version": 3
   },
   "file_extension": ".py",
   "mimetype": "text/x-python",
   "name": "python",
   "nbconvert_exporter": "python",
   "pygments_lexer": "ipython3",
   "version": "3.9.13"
  }
 },
 "nbformat": 4,
 "nbformat_minor": 5
}
