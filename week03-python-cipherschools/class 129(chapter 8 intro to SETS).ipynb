{
 "cells": [
  {
   "cell_type": "code",
   "execution_count": null,
   "id": "42ad0eb2",
   "metadata": {},
   "outputs": [],
   "source": [
    "#set data type\n",
    "# unordered  collection of unique items"
   ]
  },
  {
   "cell_type": "code",
   "execution_count": 2,
   "id": "fb192175",
   "metadata": {},
   "outputs": [
    {
     "name": "stdout",
     "output_type": "stream",
     "text": [
      "{1, 2, 3}\n"
     ]
    }
   ],
   "source": [
    "s={1,2,3,2}\n",
    "print(s)\n",
    "# 1 item cannot be more than 1 times\n",
    "# we cannot print like print(s[1])"
   ]
  },
  {
   "cell_type": "code",
   "execution_count": 6,
   "id": "5db4f9aa",
   "metadata": {},
   "outputs": [
    {
     "name": "stdout",
     "output_type": "stream",
     "text": [
      "{1, 2, 3, 4, 5, 6, 7}\n"
     ]
    }
   ],
   "source": [
    "l=[1,2,3,4,5,5,5,6,7,7,7]\n",
    "#remove duplicate\n",
    "s2=set(l)\n",
    "print(s2)\n"
   ]
  },
  {
   "cell_type": "code",
   "execution_count": 8,
   "id": "1fd309bd",
   "metadata": {},
   "outputs": [
    {
     "name": "stdout",
     "output_type": "stream",
     "text": [
      "[1, 2, 3, 4, 5, 6, 7]\n"
     ]
    }
   ],
   "source": [
    "l=[1,2,3,4,5,5,5,6,7,7,7]\n",
    "#remove duplicate\n",
    "s2=list(set(l))\n",
    "print(s2)"
   ]
  },
  {
   "cell_type": "code",
   "execution_count": 10,
   "id": "68c65f9d",
   "metadata": {},
   "outputs": [
    {
     "name": "stdout",
     "output_type": "stream",
     "text": [
      "{1, 2, 3, 4, 5}\n"
     ]
    }
   ],
   "source": [
    "# methods of sets\n",
    "#add\n",
    "s={1,2,3}\n",
    "s.add(4)\n",
    "s.add(5)\n",
    "s.add(4)\n",
    "print(s)"
   ]
  },
  {
   "cell_type": "code",
   "execution_count": 17,
   "id": "f0779799",
   "metadata": {},
   "outputs": [
    {
     "name": "stdout",
     "output_type": "stream",
     "text": [
      "{1, 2}\n"
     ]
    }
   ],
   "source": [
    "#remove method\n",
    "s={1,2,3}\n",
    "s.remove(3)\n",
    "s.discard(5) # 5 is not in my set but by discard method it will not show any error\n",
    "print(s)"
   ]
  },
  {
   "cell_type": "code",
   "execution_count": 18,
   "id": "82b94f13",
   "metadata": {},
   "outputs": [
    {
     "name": "stdout",
     "output_type": "stream",
     "text": [
      "set()\n"
     ]
    }
   ],
   "source": [
    "s={1,2,3}\n",
    "s.clear()\n",
    "print(s)"
   ]
  },
  {
   "cell_type": "code",
   "execution_count": 20,
   "id": "25c5ca00",
   "metadata": {},
   "outputs": [
    {
     "name": "stdout",
     "output_type": "stream",
     "text": [
      "{1, 2, 3}\n"
     ]
    }
   ],
   "source": [
    "#copy\n",
    "s={1,2,3}\n",
    "s1=s.copy()\n",
    "print(s1)"
   ]
  },
  {
   "cell_type": "code",
   "execution_count": 23,
   "id": "8fbb956e",
   "metadata": {},
   "outputs": [
    {
     "name": "stdout",
     "output_type": "stream",
     "text": [
      "{1, 2.3, 'strings'}\n"
     ]
    }
   ],
   "source": [
    "#we cannot store lists and dic in the sets\n",
    "s={1,1.0,2.3,'strings'}\n",
    "print(s)"
   ]
  }
 ],
 "metadata": {
  "kernelspec": {
   "display_name": "Python 3 (ipykernel)",
   "language": "python",
   "name": "python3"
  },
  "language_info": {
   "codemirror_mode": {
    "name": "ipython",
    "version": 3
   },
   "file_extension": ".py",
   "mimetype": "text/x-python",
   "name": "python",
   "nbconvert_exporter": "python",
   "pygments_lexer": "ipython3",
   "version": "3.9.13"
  }
 },
 "nbformat": 4,
 "nbformat_minor": 5
}
