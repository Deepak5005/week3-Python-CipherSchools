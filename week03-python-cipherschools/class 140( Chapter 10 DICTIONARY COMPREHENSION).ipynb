{
 "cells": [
  {
   "cell_type": "code",
   "execution_count": 1,
   "id": "64ef3d89",
   "metadata": {},
   "outputs": [
    {
     "name": "stdout",
     "output_type": "stream",
     "text": [
      "{1: 1, 2: 4, 3: 9, 4: 16, 5: 25, 6: 36, 7: 49, 8: 64, 9: 81, 10: 100}\n"
     ]
    }
   ],
   "source": [
    "#square={1:1,2:4,3:9}\n",
    "square={num:num**2 for num in range(1,11)}\n",
    "print(square)"
   ]
  },
  {
   "cell_type": "code",
   "execution_count": 2,
   "id": "791dda6c",
   "metadata": {},
   "outputs": [
    {
     "name": "stdout",
     "output_type": "stream",
     "text": [
      "{'Square of1 is': 1, 'Square of2 is': 4, 'Square of3 is': 9, 'Square of4 is': 16, 'Square of5 is': 25, 'Square of6 is': 36, 'Square of7 is': 49, 'Square of8 is': 64, 'Square of9 is': 81, 'Square of10 is': 100}\n"
     ]
    }
   ],
   "source": [
    "square={f'Square of{num} is':num**2 for num in range(1,11)}\n",
    "print(square)"
   ]
  },
  {
   "cell_type": "code",
   "execution_count": 3,
   "id": "8ce0fb64",
   "metadata": {},
   "outputs": [
    {
     "name": "stdout",
     "output_type": "stream",
     "text": [
      "Square of1 is:1\n",
      "Square of2 is:4\n",
      "Square of3 is:9\n",
      "Square of4 is:16\n",
      "Square of5 is:25\n",
      "Square of6 is:36\n",
      "Square of7 is:49\n",
      "Square of8 is:64\n",
      "Square of9 is:81\n",
      "Square of10 is:100\n"
     ]
    }
   ],
   "source": [
    "square={f'Square of{num} is':num**2 for num in range(1,11)}\n",
    "for k,v in square.items():\n",
    "    print(f'{k}:{v}')"
   ]
  },
  {
   "cell_type": "code",
   "execution_count": 5,
   "id": "a85e5a47",
   "metadata": {},
   "outputs": [
    {
     "name": "stdout",
     "output_type": "stream",
     "text": [
      "{'i': 1, 's': 1, 'h': 1, 'a': 1}\n"
     ]
    }
   ],
   "source": [
    "str1=\"isha\"\n",
    "word_count={char:str1.count(char) for char in str1}\n",
    "print(word_count)"
   ]
  },
  {
   "cell_type": "code",
   "execution_count": 6,
   "id": "dbe350bb",
   "metadata": {},
   "outputs": [
    {
     "name": "stdout",
     "output_type": "stream",
     "text": [
      "{1: 'odd', 2: 'even', 3: 'odd', 4: 'even', 5: 'odd', 6: 'even', 7: 'odd', 8: 'even', 9: 'odd', 10: 'even'}\n"
     ]
    }
   ],
   "source": [
    "# IF ELSE\n",
    "#d={1:'odd',2:\"even\"}\n",
    "odd_even={i:('even' if i%2==0 else 'odd') for i in range(1,11)}\n",
    "print(odd_even)"
   ]
  },
  {
   "cell_type": "code",
   "execution_count": null,
   "id": "446a8c20",
   "metadata": {},
   "outputs": [],
   "source": []
  },
  {
   "cell_type": "code",
   "execution_count": null,
   "id": "dd585afc",
   "metadata": {},
   "outputs": [],
   "source": []
  }
 ],
 "metadata": {
  "kernelspec": {
   "display_name": "Python 3 (ipykernel)",
   "language": "python",
   "name": "python3"
  },
  "language_info": {
   "codemirror_mode": {
    "name": "ipython",
    "version": 3
   },
   "file_extension": ".py",
   "mimetype": "text/x-python",
   "name": "python",
   "nbconvert_exporter": "python",
   "pygments_lexer": "ipython3",
   "version": "3.9.13"
  }
 },
 "nbformat": 4,
 "nbformat_minor": 5
}
