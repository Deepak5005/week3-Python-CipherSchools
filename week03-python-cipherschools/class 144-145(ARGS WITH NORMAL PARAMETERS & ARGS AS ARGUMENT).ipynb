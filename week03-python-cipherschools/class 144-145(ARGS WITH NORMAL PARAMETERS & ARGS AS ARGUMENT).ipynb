{
 "cells": [
  {
   "cell_type": "code",
   "execution_count": 10,
   "id": "cee4125e",
   "metadata": {},
   "outputs": [
    {
     "name": "stdout",
     "output_type": "stream",
     "text": [
      "6\n",
      "2 3\n",
      "6\n"
     ]
    }
   ],
   "source": [
    "def multiply(num,*args):\n",
    "    mul=1\n",
    "    print(num)\n",
    "    print(*args)\n",
    "    for i in args:\n",
    "        mul *= i\n",
    "    return mul\n",
    "print(multiply(6,2,3))\n",
    "# 6 is not a part of tuple\n"
   ]
  },
  {
   "cell_type": "code",
   "execution_count": 11,
   "id": "17886091",
   "metadata": {},
   "outputs": [
    {
     "name": "stdout",
     "output_type": "stream",
     "text": [
      "36\n"
     ]
    }
   ],
   "source": [
    "def multiply(*args):\n",
    "    mul=1\n",
    "\n",
    "    for i in args:\n",
    "        mul *= i\n",
    "    return mul\n",
    "print(multiply(6,2,3))"
   ]
  },
  {
   "cell_type": "code",
   "execution_count": 16,
   "id": "fc0493c7",
   "metadata": {},
   "outputs": [
    {
     "name": "stdout",
     "output_type": "stream",
     "text": [
      "6\n",
      "2\n",
      "3\n",
      "3\n"
     ]
    }
   ],
   "source": [
    "def multiply(num1,num2,*args):\n",
    "    mul=1\n",
    "    print(num1)\n",
    "    print(num2)\n",
    "    print(*args)\n",
    "   \n",
    "    for i in args:\n",
    "        mul *= i\n",
    "    return mul\n",
    "print(multiply(6,2,3,))\n"
   ]
  },
  {
   "cell_type": "code",
   "execution_count": null,
   "id": "2c6556db",
   "metadata": {},
   "outputs": [],
   "source": [
    "# lecture 145 args as argument in python\n"
   ]
  },
  {
   "cell_type": "code",
   "execution_count": 19,
   "id": "d06a6d02",
   "metadata": {},
   "outputs": [
    {
     "name": "stdout",
     "output_type": "stream",
     "text": [
      "(6, 2, 3)\n",
      "6 2 3\n",
      "36\n"
     ]
    }
   ],
   "source": [
    "def multiply(*args):\n",
    "    mul=1 \n",
    "    print(args)# it will print as a tuple\n",
    "    print(*args)# it will print the normal numbers\n",
    "    for i in args:\n",
    "        mul *= i\n",
    "    return mul\n",
    "print(multiply(6,2,3))"
   ]
  },
  {
   "cell_type": "code",
   "execution_count": 20,
   "id": "346165e8",
   "metadata": {},
   "outputs": [
    {
     "name": "stdout",
     "output_type": "stream",
     "text": [
      "[2, 3, 4]\n"
     ]
    }
   ],
   "source": [
    "def multiply(*args):\n",
    "    mul=1\n",
    "    for i in args:\n",
    "        mul *= i\n",
    "    return mul\n",
    "nums=[2,3,4]# it is the problem\n",
    "print(multiply(nums))"
   ]
  },
  {
   "cell_type": "code",
   "execution_count": 21,
   "id": "8c50ab88",
   "metadata": {},
   "outputs": [
    {
     "name": "stdout",
     "output_type": "stream",
     "text": [
      "24\n"
     ]
    }
   ],
   "source": [
    "# solution\n",
    "def multiply(*args):\n",
    "    mul=1\n",
    "    for i in args:\n",
    "        mul *= i\n",
    "    return mul\n",
    "nums=[2,3,4]# it is the problem\n",
    "print(multiply(*nums))# add star to the list. it will unpack the list"
   ]
  },
  {
   "cell_type": "code",
   "execution_count": 24,
   "id": "d6109034",
   "metadata": {},
   "outputs": [
    {
     "name": "stdout",
     "output_type": "stream",
     "text": [
      "(2, 3, 4)\n",
      "2 3 4\n",
      "24\n"
     ]
    }
   ],
   "source": [
    "def multiply(*args):\n",
    "    mul=1\n",
    "    print(args)\n",
    "    print(*args)\n",
    "    for i in args:\n",
    "        mul *= i\n",
    "    return mul\n",
    "nums=(2,3,4)\n",
    "print(multiply(*nums)) # * will unpack the tuple"
   ]
  },
  {
   "cell_type": "code",
   "execution_count": null,
   "id": "842e34f6",
   "metadata": {},
   "outputs": [],
   "source": []
  },
  {
   "cell_type": "code",
   "execution_count": null,
   "id": "09fb215f",
   "metadata": {},
   "outputs": [],
   "source": []
  }
 ],
 "metadata": {
  "kernelspec": {
   "display_name": "Python 3 (ipykernel)",
   "language": "python",
   "name": "python3"
  },
  "language_info": {
   "codemirror_mode": {
    "name": "ipython",
    "version": 3
   },
   "file_extension": ".py",
   "mimetype": "text/x-python",
   "name": "python",
   "nbconvert_exporter": "python",
   "pygments_lexer": "ipython3",
   "version": "3.9.13"
  }
 },
 "nbformat": 4,
 "nbformat_minor": 5
}
