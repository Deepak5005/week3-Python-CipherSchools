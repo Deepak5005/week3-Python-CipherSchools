{
 "cells": [
  {
   "cell_type": "code",
   "execution_count": 1,
   "id": "77353fb4",
   "metadata": {},
   "outputs": [
    {
     "name": "stdout",
     "output_type": "stream",
     "text": [
      "2\n"
     ]
    }
   ],
   "source": [
    "class Person:\n",
    "    count_instance=0\n",
    "    def __init__(self, first_name,last_name,age):\n",
    "        Person.count_instance +=1\n",
    "        self.first_name=first_name\n",
    "        self.last_name=last_name\n",
    "        self.age=age\n",
    "\n",
    "p1=Person(\"Isha\",'Verma',19)\n",
    "p2=Person(\"abc\",'abc',19) # there are 2 object p1 and p2 ths is a object counter\n",
    "print(Person.count_instance)\n",
    "        \n",
    "        \n",
    "        "
   ]
  },
  {
   "cell_type": "code",
   "execution_count": null,
   "id": "d3f79eed",
   "metadata": {},
   "outputs": [],
   "source": []
  },
  {
   "cell_type": "code",
   "execution_count": null,
   "id": "181388a8",
   "metadata": {},
   "outputs": [],
   "source": []
  },
  {
   "cell_type": "code",
   "execution_count": null,
   "id": "347d8bb8",
   "metadata": {},
   "outputs": [],
   "source": []
  },
  {
   "cell_type": "code",
   "execution_count": null,
   "id": "7b0db890",
   "metadata": {},
   "outputs": [],
   "source": []
  }
 ],
 "metadata": {
  "kernelspec": {
   "display_name": "Python 3 (ipykernel)",
   "language": "python",
   "name": "python3"
  },
  "language_info": {
   "codemirror_mode": {
    "name": "ipython",
    "version": 3
   },
   "file_extension": ".py",
   "mimetype": "text/x-python",
   "name": "python",
   "nbconvert_exporter": "python",
   "pygments_lexer": "ipython3",
   "version": "3.9.13"
  }
 },
 "nbformat": 4,
 "nbformat_minor": 5
}
