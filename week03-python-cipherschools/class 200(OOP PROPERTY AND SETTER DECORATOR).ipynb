{
 "cells": [
  {
   "cell_type": "code",
   "execution_count": 3,
   "id": "e6f324eb",
   "metadata": {},
   "outputs": [
    {
     "name": "stdout",
     "output_type": "stream",
     "text": [
      "Nokia\n",
      "1100\n",
      "500\n",
      "Nokia 1100 and price is 1000\n"
     ]
    }
   ],
   "source": [
    "\n",
    "class Phone:\n",
    "\n",
    "    def __init__(self,brand,model,price):\n",
    "        self.brand=brand\n",
    "        self.model=model\n",
    "        self.price=price\n",
    "        self.complete_specification = f\"{self.brand} {self.model} and price is {self.price}\"\n",
    "    def make_a_call(self,phone_number):\n",
    "        print(f\"calling {phone_number}...\")\n",
    "        \n",
    "    def full_name(self):\n",
    "        return f\"{self.brand} {self.model}\"\n",
    "    \n",
    "p1=Phone(\"Nokia\",\"1100\",1000)\n",
    "print(p1.brand)\n",
    "print(p1.model)\n",
    "p1.price= -500 \n",
    "print(p1.price)\n",
    "print(p1.complete_specification)\n",
    "# problem 1 price cannot be negative as it is practically not possible\n",
    "# problem 2 price is not changing in the complete_sprcifications\n",
    "\n"
   ]
  },
  {
   "cell_type": "code",
   "execution_count": 6,
   "id": "25746a76",
   "metadata": {},
   "outputs": [
    {
     "name": "stdout",
     "output_type": "stream",
     "text": [
      "Nokia\n",
      "1100\n",
      "0\n",
      "Nokia 1100 and price is 0\n"
     ]
    }
   ],
   "source": [
    "#soltuion \n",
    "class Phone:\n",
    "\n",
    "    def __init__(self,brand,model,price):\n",
    "        self.brand=brand\n",
    "        self.model=model\n",
    "        self.price=max(price,0)\n",
    "        #if price >0:\n",
    "        #    self.price=price\n",
    "        #else:\n",
    "         #   self.price=0\n",
    "        self.complete_specification = f\"{self.brand} {self.model} and price is {self.price}\"\n",
    "    def make_a_call(self,phone_number):\n",
    "        print(f\"calling {phone_number}...\")\n",
    "        \n",
    "    def full_name(self):\n",
    "        return f\"{self.brand} {self.model}\"\n",
    "    \n",
    "p1=Phone(\"Nokia\",\"1100\",-1000)\n",
    "print(p1.brand)\n",
    "print(p1.model)\n",
    " \n",
    "print(p1.price)\n",
    "print(p1.complete_specification)"
   ]
  },
  {
   "cell_type": "code",
   "execution_count": null,
   "id": "f1c54cb0",
   "metadata": {},
   "outputs": [],
   "source": []
  },
  {
   "cell_type": "code",
   "execution_count": 9,
   "id": "b058d9c8",
   "metadata": {},
   "outputs": [
    {
     "name": "stdout",
     "output_type": "stream",
     "text": [
      "500\n",
      "Nokia 1100 and price is 500\n"
     ]
    }
   ],
   "source": [
    "# problem 2 soln\n",
    "class Phone:\n",
    "\n",
    "    def complete_specification(self):\n",
    "        return f\"{self.brand} {self.model} and price is {self.price}\"\n",
    "    \n",
    "    def make_a_call(self,phone_number):\n",
    "        print(f\"calling {phone_number}...\")\n",
    "        \n",
    "    def full_name(self):\n",
    "        return f\"{self.brand} {self.model}\"\n",
    "    \n",
    "p1=Phone(\"Nokia\",\"1100\",1000)\n",
    "\n",
    "p1.price= 500 \n",
    "print(p1.price)\n",
    "print(p1.complete_specification())   def __init__(self,brand,model,price):\n",
    "        self.brand=brand\n",
    "        self.model=model\n",
    "        self.price=max(price,0)\n",
    "        #self.complete_specification = f\"{self.brand} {self.model} and price is {self.price}\"\n",
    "    \n",
    " "
   ]
  },
  {
   "cell_type": "code",
   "execution_count": null,
   "id": "59ef2bef",
   "metadata": {},
   "outputs": [],
   "source": []
  },
  {
   "cell_type": "code",
   "execution_count": null,
   "id": "00c1f6aa",
   "metadata": {},
   "outputs": [],
   "source": [
    "# property decorator "
   ]
  },
  {
   "cell_type": "code",
   "execution_count": 12,
   "id": "fb349ba5",
   "metadata": {},
   "outputs": [
    {
     "name": "stdout",
     "output_type": "stream",
     "text": [
      "500\n",
      "Nokia 1100 and price is 500\n"
     ]
    }
   ],
   "source": [
    "# problem 2 soln\n",
    "class Phone:\n",
    "\n",
    "    def __init__(self,brand,model,price):\n",
    "        self.brand=brand\n",
    "        self.model=model\n",
    "        self.price=max(price,0)\n",
    "        #self.complete_specification = f\"{self.brand} {self.model} and price is {self.price}\"\n",
    "    @property\n",
    "    def complete_specification(self):\n",
    "        return f\"{self.brand} {self.model} and price is {self.price}\"\n",
    "    \n",
    "    def make_a_call(self,phone_number):\n",
    "        print(f\"calling {phone_number}...\")\n",
    "        \n",
    "    def full_name(self):\n",
    "        return f\"{self.brand} {self.model}\"\n",
    "    \n",
    "p1=Phone(\"Nokia\",\"1100\",1000)\n",
    "\n",
    "p1.price= 500 \n",
    "print(p1.price)\n",
    "print(p1.complete_specification)  # i can print it without the ()"
   ]
  },
  {
   "cell_type": "code",
   "execution_count": null,
   "id": "4da8019b",
   "metadata": {},
   "outputs": [],
   "source": []
  },
  {
   "cell_type": "code",
   "execution_count": null,
   "id": "f73ec7a3",
   "metadata": {},
   "outputs": [],
   "source": [
    "# to make it practical\n",
    "class Phone:\n",
    "\n",
    "    def __init__(self,brand,model,price):\n",
    "        self.brand=brand\n",
    "        self.model=model\n",
    "        self.price=max(price,0)\n",
    "        #self.complete_specification = f\"{self.brand} {self.model} and price is {self.price}\"\n",
    "    @property\n",
    "    def complete_specification(self):\n",
    "        return f\"{self.brand} {self.model} and price is {self.price}\"\n",
    "    #getter \n",
    "    @property\n",
    "    def pricee(self):\n",
    "        return self.price\n",
    "    \n",
    "    #setter\n",
    "    @pricee.setter\n",
    "    def price(self,new_price):\n",
    "        self.price=max(new_price,0)\n",
    "        \n",
    "    \n",
    "p1=Phone(\"Nokia\",\"1100\",1000)\n",
    "\n",
    "p1.price= 500 \n",
    "print(p1.price)\n",
    "print(p1.complete_specification)"
   ]
  },
  {
   "cell_type": "code",
   "execution_count": null,
   "id": "7c1dfe8d",
   "metadata": {},
   "outputs": [],
   "source": []
  },
  {
   "cell_type": "code",
   "execution_count": null,
   "id": "f48188a1",
   "metadata": {},
   "outputs": [],
   "source": []
  }
 ],
 "metadata": {
  "kernelspec": {
   "display_name": "Python 3 (ipykernel)",
   "language": "python",
   "name": "python3"
  },
  "language_info": {
   "codemirror_mode": {
    "name": "ipython",
    "version": 3
   },
   "file_extension": ".py",
   "mimetype": "text/x-python",
   "name": "python",
   "nbconvert_exporter": "python",
   "pygments_lexer": "ipython3",
   "version": "3.9.13"
  }
 },
 "nbformat": 4,
 "nbformat_minor": 5
}
