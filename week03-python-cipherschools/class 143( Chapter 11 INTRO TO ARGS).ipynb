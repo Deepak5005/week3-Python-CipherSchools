{
 "cells": [
  {
   "cell_type": "code",
   "execution_count": null,
   "id": "f3368993",
   "metadata": {},
   "outputs": [],
   "source": [
    "# MAKE FLEXIBLE FUNCTION\n",
    "# *OPERATOR\n",
    "# *ARGS\n",
    "\n",
    "\n"
   ]
  },
  {
   "cell_type": "code",
   "execution_count": 1,
   "id": "d9797ffb",
   "metadata": {},
   "outputs": [
    {
     "name": "stdout",
     "output_type": "stream",
     "text": [
      "5\n"
     ]
    }
   ],
   "source": [
    "def total(a,b):\n",
    "    return a+b\n",
    "print(total(2,3)) # if we have to add 5 or more numbers so we use star operator"
   ]
  },
  {
   "cell_type": "code",
   "execution_count": 19,
   "id": "c9760fd6",
   "metadata": {},
   "outputs": [
    {
     "name": "stdout",
     "output_type": "stream",
     "text": [
      "(1, 2, 3, 4, 5)\n"
     ]
    }
   ],
   "source": [
    "# *operator convert it into tuple\n",
    "#u can write anything after * but most of the time args is written \n",
    "def total(*args):\n",
    "    print(type(args))\n",
    "total=(1,2,3,4,5)\n",
    "print(total)\n",
    "\n"
   ]
  },
  {
   "cell_type": "code",
   "execution_count": 20,
   "id": "ad14b63e",
   "metadata": {},
   "outputs": [
    {
     "name": "stdout",
     "output_type": "stream",
     "text": [
      "6\n"
     ]
    }
   ],
   "source": [
    "def total(*args):\n",
    "    total=0\n",
    "    for num in args:\n",
    "        total +=num\n",
    "    return total\n",
    "print(total(1,2,3))"
   ]
  },
  {
   "cell_type": "code",
   "execution_count": null,
   "id": "618b7c68",
   "metadata": {},
   "outputs": [],
   "source": []
  },
  {
   "cell_type": "code",
   "execution_count": null,
   "id": "e4c4bb2e",
   "metadata": {},
   "outputs": [],
   "source": []
  },
  {
   "cell_type": "code",
   "execution_count": null,
   "id": "12a8162d",
   "metadata": {},
   "outputs": [],
   "source": []
  }
 ],
 "metadata": {
  "kernelspec": {
   "display_name": "Python 3 (ipykernel)",
   "language": "python",
   "name": "python3"
  },
  "language_info": {
   "codemirror_mode": {
    "name": "ipython",
    "version": 3
   },
   "file_extension": ".py",
   "mimetype": "text/x-python",
   "name": "python",
   "nbconvert_exporter": "python",
   "pygments_lexer": "ipython3",
   "version": "3.9.13"
  }
 },
 "nbformat": 4,
 "nbformat_minor": 5
}
