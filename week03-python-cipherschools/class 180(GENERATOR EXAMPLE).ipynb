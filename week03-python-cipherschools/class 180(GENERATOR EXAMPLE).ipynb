{
 "cells": [
  {
   "cell_type": "code",
   "execution_count": 4,
   "id": "bd476004",
   "metadata": {},
   "outputs": [
    {
     "name": "stdout",
     "output_type": "stream",
     "text": [
      "1\n",
      "2\n",
      "3\n",
      "4\n",
      "5\n",
      "6\n",
      "7\n",
      "8\n",
      "9\n",
      "10\n"
     ]
    }
   ],
   "source": [
    "#1.) generator function\n",
    "# 10, print 1 to 10\n",
    "def nums(n):\n",
    "    for i in range(1,n+1):\n",
    "        print(i)\n",
    "nums(10)"
   ]
  },
  {
   "cell_type": "code",
   "execution_count": 5,
   "id": "01acd526",
   "metadata": {},
   "outputs": [
    {
     "name": "stdout",
     "output_type": "stream",
     "text": [
      "<generator object nums at 0x0000019ABD272CF0>\n"
     ]
    }
   ],
   "source": [
    "def nums(n):\n",
    "    for i in range(1,n+1):\n",
    "        yield i # yeild is a keyword\n",
    "print(nums(10))"
   ]
  },
  {
   "cell_type": "code",
   "execution_count": 6,
   "id": "48f5a07b",
   "metadata": {},
   "outputs": [
    {
     "name": "stdout",
     "output_type": "stream",
     "text": [
      "1\n",
      "2\n",
      "3\n",
      "4\n",
      "5\n",
      "6\n",
      "7\n",
      "8\n",
      "9\n",
      "10\n"
     ]
    }
   ],
   "source": [
    "def nums(n):\n",
    "    for i in range(1,n+1):\n",
    "        yield i # yeild is a keyword\n",
    "for numbers in nums(10): # for loop is demanding the numbers from the generators\n",
    "    print(numbers) # generator will not work unless someone demands for it like we deamded in the for loop"
   ]
  },
  {
   "cell_type": "code",
   "execution_count": 9,
   "id": "55664ddf",
   "metadata": {},
   "outputs": [
    {
     "name": "stdout",
     "output_type": "stream",
     "text": [
      "1\n",
      "2\n",
      "3\n",
      "4\n",
      "5\n",
      "6\n",
      "7\n",
      "8\n",
      "9\n",
      "10\n"
     ]
    }
   ],
   "source": [
    "def nums(n):\n",
    "    for i in range(1,n+1):\n",
    "        yield i \n",
    "numbers=nums(10)\n",
    "for num in numbers:\n",
    "    print(num)\n",
    "for num in numbers:\n",
    "    print(num) \n",
    "    #generator only printing numbers once"
   ]
  },
  {
   "cell_type": "code",
   "execution_count": 10,
   "id": "a8c76ea4",
   "metadata": {},
   "outputs": [
    {
     "name": "stdout",
     "output_type": "stream",
     "text": [
      "1\n",
      "2\n",
      "3\n",
      "4\n",
      "5\n",
      "6\n",
      "7\n",
      "8\n",
      "9\n",
      "10\n",
      "1\n",
      "2\n",
      "3\n",
      "4\n",
      "5\n",
      "6\n",
      "7\n",
      "8\n",
      "9\n",
      "10\n"
     ]
    }
   ],
   "source": [
    "def nums(n):\n",
    "    for i in range(1,n+1):\n",
    "        yield i \n",
    "numbers=list(nums(10)) # list will not give the benifit of generator \n",
    "for num in numbers:\n",
    "    print(num)\n",
    "for num in numbers:\n",
    "    print(num)"
   ]
  },
  {
   "cell_type": "code",
   "execution_count": null,
   "id": "ab74926d",
   "metadata": {},
   "outputs": [],
   "source": []
  }
 ],
 "metadata": {
  "kernelspec": {
   "display_name": "Python 3 (ipykernel)",
   "language": "python",
   "name": "python3"
  },
  "language_info": {
   "codemirror_mode": {
    "name": "ipython",
    "version": 3
   },
   "file_extension": ".py",
   "mimetype": "text/x-python",
   "name": "python",
   "nbconvert_exporter": "python",
   "pygments_lexer": "ipython3",
   "version": "3.9.13"
  }
 },
 "nbformat": 4,
 "nbformat_minor": 5
}
