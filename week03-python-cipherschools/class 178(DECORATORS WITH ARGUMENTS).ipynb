{
 "cells": [
  {
   "cell_type": "code",
   "execution_count": 5,
   "id": "2dc8e9b1",
   "metadata": {},
   "outputs": [
    {
     "name": "stdout",
     "output_type": "stream",
     "text": [
      "ishayatina\n"
     ]
    }
   ],
   "source": [
    "from functools import wraps\n",
    "def only_datatype_allow(data_type):\n",
    "    def decorator(function):  #nested function\n",
    "        @wraps(function)\n",
    "        def wrapper(*args,**kwargs):\n",
    "            if all([type(arg)==data_type  for arg in args]):\n",
    "                return function(*args,**kwargs)\n",
    "            print(\"invalid arguments\")\n",
    "        return wrapper\n",
    "    return decorator\n",
    "@only_datatype_allow(str)\n",
    "def string_join(*args):\n",
    "    string=''\n",
    "    for i in args:\n",
    "        string += i\n",
    "    return string\n",
    "\n",
    "print(string_join('isha','yatin','a'))\n",
    "\n",
    "            \n",
    "        \n",
    "    "
   ]
  },
  {
   "cell_type": "code",
   "execution_count": null,
   "id": "c0093618",
   "metadata": {},
   "outputs": [],
   "source": []
  },
  {
   "cell_type": "code",
   "execution_count": null,
   "id": "dcc71f40",
   "metadata": {},
   "outputs": [],
   "source": []
  },
  {
   "cell_type": "code",
   "execution_count": null,
   "id": "4a1be4a2",
   "metadata": {},
   "outputs": [],
   "source": []
  },
  {
   "cell_type": "code",
   "execution_count": null,
   "id": "621b761b",
   "metadata": {},
   "outputs": [],
   "source": []
  }
 ],
 "metadata": {
  "kernelspec": {
   "display_name": "Python 3 (ipykernel)",
   "language": "python",
   "name": "python3"
  },
  "language_info": {
   "codemirror_mode": {
    "name": "ipython",
    "version": 3
   },
   "file_extension": ".py",
   "mimetype": "text/x-python",
   "name": "python",
   "nbconvert_exporter": "python",
   "pygments_lexer": "ipython3",
   "version": "3.9.13"
  }
 },
 "nbformat": 4,
 "nbformat_minor": 5
}
