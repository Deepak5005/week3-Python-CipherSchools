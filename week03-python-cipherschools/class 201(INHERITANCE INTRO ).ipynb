{
 "cells": [
  {
   "cell_type": "code",
   "execution_count": 5,
   "id": "cdf1a53f",
   "metadata": {},
   "outputs": [
    {
     "name": "stdout",
     "output_type": "stream",
     "text": [
      "Nokia 1100\n",
      "OnePlus 5\n"
     ]
    }
   ],
   "source": [
    "class Phone:\n",
    "\n",
    "    def __init__(self,brand,model,price):\n",
    "        self.brand=brand\n",
    "        self.model=model\n",
    "        self.price=max(price,0)\n",
    "    \n",
    "    def make_a_call(self,phone_number):\n",
    "        print(f\"calling {phone_number}...\")\n",
    "        \n",
    "    def full_name(self):\n",
    "        return f\"{self.brand} {self.model}\"\n",
    "    \n",
    "class Smartphone:\n",
    "    \n",
    "    def __init__(self,brand,model,price,ram,memory,rear_camera):\n",
    "        self.brand=brand\n",
    "        self.model=model\n",
    "        self.price=max(price,0)\n",
    "        self.ram=ram\n",
    "        self.memory=memory\n",
    "        self.rear_camera=rear_camera\n",
    "    \n",
    "    def make_a_call(self,phone_number):\n",
    "        print(f\"calling {phone_number}...\")\n",
    "        \n",
    "    def full_name(self):\n",
    "        return f\"{self.brand} {self.model}\"\n",
    "\n",
    "p=Phone('Nokia','1100',1000)\n",
    "s=Smartphone(\"OnePlus\",'5',30000,'6 GB','64 GB', '20 MP')\n",
    "print(p.full_name())\n",
    "print(s.full_name())"
   ]
  },
  {
   "cell_type": "code",
   "execution_count": null,
   "id": "3ef397e4",
   "metadata": {},
   "outputs": [],
   "source": []
  },
  {
   "cell_type": "code",
   "execution_count": null,
   "id": "68568dba",
   "metadata": {},
   "outputs": [],
   "source": [
    "# inherit"
   ]
  },
  {
   "cell_type": "code",
   "execution_count": 9,
   "id": "6903187e",
   "metadata": {},
   "outputs": [
    {
     "ename": "SyntaxError",
     "evalue": "unexpected EOF while parsing (4208145426.py, line 26)",
     "output_type": "error",
     "traceback": [
      "\u001b[1;36m  File \u001b[1;32m\"C:\\Users\\unive\\AppData\\Local\\Temp\\ipykernel_25728\\4208145426.py\"\u001b[1;36m, line \u001b[1;32m26\u001b[0m\n\u001b[1;33m    print(s.full_name()\u001b[0m\n\u001b[1;37m                       ^\u001b[0m\n\u001b[1;31mSyntaxError\u001b[0m\u001b[1;31m:\u001b[0m unexpected EOF while parsing\n"
     ]
    }
   ],
   "source": [
    "class Phone: #base/parent class\n",
    "\n",
    "    def __init__(self,brand,model,price):\n",
    "        self.brand=brand\n",
    "        self.model=model\n",
    "        self.price=max(price,0)\n",
    "    \n",
    "    def make_a_call(self,phone_number):\n",
    "        print(f\"calling {phone_number}...\")\n",
    "        \n",
    "    def full_name(self):\n",
    "        return f\"{self.brand} {self.model}\"\n",
    "    \n",
    "class Smartphone(Phone): #child/derived class\n",
    "    \n",
    "    def __init__(self,brand,model,price,ram,memory,rear_camera):\n",
    "        #Phone.__init__(self,brand,model,price) #uncommon way\n",
    "        super().__init__ (brand,model,price) #common way       \n",
    "        self.ram=ram\n",
    "        self.memory=memory\n",
    "        self.rear_camera=rear_camera\n",
    "    \n",
    " \n",
    "p=Phone('Nokia','1100',1000)\n",
    "s=Smartphone(\"OnePlus\",'5',30000,'6 GB','64 GB', '20 MP')\n",
    "print(p.full_name())\n",
    "print(s.full_name())"
   ]
  },
  {
   "cell_type": "code",
   "execution_count": null,
   "id": "0ddd8eb6",
   "metadata": {},
   "outputs": [],
   "source": []
  }
 ],
 "metadata": {
  "kernelspec": {
   "display_name": "Python 3 (ipykernel)",
   "language": "python",
   "name": "python3"
  },
  "language_info": {
   "codemirror_mode": {
    "name": "ipython",
    "version": 3
   },
   "file_extension": ".py",
   "mimetype": "text/x-python",
   "name": "python",
   "nbconvert_exporter": "python",
   "pygments_lexer": "ipython3",
   "version": "3.9.13"
  }
 },
 "nbformat": 4,
 "nbformat_minor": 5
}
