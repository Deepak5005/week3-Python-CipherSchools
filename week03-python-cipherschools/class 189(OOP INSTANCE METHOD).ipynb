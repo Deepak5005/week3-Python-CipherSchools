{
 "cells": [
  {
   "cell_type": "code",
   "execution_count": null,
   "id": "ecc435e9",
   "metadata": {},
   "outputs": [],
   "source": [
    "# instance methods or object method\n"
   ]
  },
  {
   "cell_type": "code",
   "execution_count": null,
   "id": "665005db",
   "metadata": {},
   "outputs": [],
   "source": [
    "l=[1,2,3]\n",
    "l.pop() # class kai andae jitne bhi function hote hai nko hum method bolte hai        "
   ]
  },
  {
   "cell_type": "code",
   "execution_count": 16,
   "id": "f7e9e28a",
   "metadata": {},
   "outputs": [
    {
     "name": "stdout",
     "output_type": "stream",
     "text": [
      "Yatin Arora\n",
      "True\n",
      "False\n"
     ]
    }
   ],
   "source": [
    "class Person: #captital letter convention\n",
    "    def __init__(self, first_name,last_name,age):\n",
    "        self.first_name=first_name\n",
    "        self.last_name=last_name\n",
    "        self.age=age\n",
    "        \n",
    "    def full_name(self):\n",
    "        return f\"{self.first_name} {self.last_name}\"\n",
    "    \n",
    "    def is_above_18(self):\n",
    "        return self.age>18\n",
    "        \n",
    "p1=Person('Isha','Verma',19)\n",
    "p2=Person('Yatin','Arora',17)\n",
    "print(p2.full_name())\n",
    "print(p1.is_above_18())\n",
    "print(p2.is_above_18())\n"
   ]
  },
  {
   "cell_type": "code",
   "execution_count": 11,
   "id": "4fa1e416",
   "metadata": {},
   "outputs": [
    {
     "name": "stdout",
     "output_type": "stream",
     "text": [
      "[]\n"
     ]
    }
   ],
   "source": [
    "l=[1,2,3]\n",
    "#clear , pop\n",
    "l.clear()\n",
    "print(l)"
   ]
  },
  {
   "cell_type": "code",
   "execution_count": 14,
   "id": "d449773e",
   "metadata": {},
   "outputs": [
    {
     "name": "stdout",
     "output_type": "stream",
     "text": [
      "[]\n",
      "[10]\n"
     ]
    }
   ],
   "source": [
    "l=[1,2,3]\n",
    "list.clear(l)\n",
    "print(l)\n",
    "list.append(l,10)\n",
    "print(l)"
   ]
  },
  {
   "cell_type": "code",
   "execution_count": null,
   "id": "14978334",
   "metadata": {},
   "outputs": [],
   "source": []
  }
 ],
 "metadata": {
  "kernelspec": {
   "display_name": "Python 3 (ipykernel)",
   "language": "python",
   "name": "python3"
  },
  "language_info": {
   "codemirror_mode": {
    "name": "ipython",
    "version": 3
   },
   "file_extension": ".py",
   "mimetype": "text/x-python",
   "name": "python",
   "nbconvert_exporter": "python",
   "pygments_lexer": "ipython3",
   "version": "3.9.13"
  }
 },
 "nbformat": 4,
 "nbformat_minor": 5
}
