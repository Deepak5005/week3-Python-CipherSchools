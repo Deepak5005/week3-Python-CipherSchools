{
 "cells": [
  {
   "cell_type": "code",
   "execution_count": 2,
   "id": "9f21dcaf",
   "metadata": {},
   "outputs": [
    {
     "name": "stdout",
     "output_type": "stream",
     "text": [
      "<filter object at 0x0000021C2328CF70>\n"
     ]
    }
   ],
   "source": [
    "def even(a):\n",
    "    return a%2==0\n",
    "num=[3,4,5,6,78,9,10]\n",
    "print(filter(even,num))\n"
   ]
  },
  {
   "cell_type": "code",
   "execution_count": 3,
   "id": "a832cde8",
   "metadata": {},
   "outputs": [
    {
     "name": "stdout",
     "output_type": "stream",
     "text": [
      "(4, 6, 78, 10)\n"
     ]
    }
   ],
   "source": [
    "def even(a):\n",
    "    return a%2==0\n",
    "num=[3,4,5,6,78,9,10]\n",
    "evens=tuple(filter(even,num))\n",
    "print(evens)"
   ]
  },
  {
   "cell_type": "code",
   "execution_count": 10,
   "id": "0c3c1d4a",
   "metadata": {},
   "outputs": [],
   "source": [
    "def even(a):\n",
    "    return a%2==0\n",
    "num=[3,4,5,6,78,9,10]\n",
    "evens=tuple(filter(lambda a:a%2==0 ,num))\n",
    "\n"
   ]
  },
  {
   "cell_type": "code",
   "execution_count": null,
   "id": "9f4636cb",
   "metadata": {},
   "outputs": [],
   "source": []
  },
  {
   "cell_type": "code",
   "execution_count": null,
   "id": "49dbfdb0",
   "metadata": {},
   "outputs": [],
   "source": []
  }
 ],
 "metadata": {
  "kernelspec": {
   "display_name": "Python 3 (ipykernel)",
   "language": "python",
   "name": "python3"
  },
  "language_info": {
   "codemirror_mode": {
    "name": "ipython",
    "version": 3
   },
   "file_extension": ".py",
   "mimetype": "text/x-python",
   "name": "python",
   "nbconvert_exporter": "python",
   "pygments_lexer": "ipython3",
   "version": "3.9.13"
  }
 },
 "nbformat": 4,
 "nbformat_minor": 5
}
