{
 "cells": [
  {
   "cell_type": "code",
   "execution_count": null,
   "id": "35e42685",
   "metadata": {},
   "outputs": [],
   "source": [
    "# function\n",
    "#list,reverse_str=True\n",
    "#list\n"
   ]
  },
  {
   "cell_type": "code",
   "execution_count": 3,
   "id": "4c988102",
   "metadata": {},
   "outputs": [
    {
     "name": "stdout",
     "output_type": "stream",
     "text": [
      "['Ahsi', 'Arihta']\n"
     ]
    }
   ],
   "source": [
    "def func(l,**kwargs):\n",
    "    if kwargs.get('reverse_str')== True:\n",
    "        return [name[::-1].title() for name in l]\n",
    "    else:\n",
    "        return[name.title() for name in l]\n",
    "name=['isha','athira']\n",
    "print(func(name,reverse_str=True))"
   ]
  },
  {
   "cell_type": "code",
   "execution_count": 4,
   "id": "0e973274",
   "metadata": {},
   "outputs": [
    {
     "name": "stdout",
     "output_type": "stream",
     "text": [
      "['Isha', 'Athira']\n"
     ]
    }
   ],
   "source": [
    "def func(l,**kwargs):\n",
    "    if kwargs.get('reverse_str')== True:\n",
    "        return [name[::-1].title() for name in l]\n",
    "    else:\n",
    "        return[name.title() for name in l]\n",
    "name=['isha','athira']\n",
    "print(func(name))"
   ]
  },
  {
   "cell_type": "code",
   "execution_count": null,
   "id": "5682096c",
   "metadata": {},
   "outputs": [],
   "source": []
  },
  {
   "cell_type": "code",
   "execution_count": null,
   "id": "81a0142f",
   "metadata": {},
   "outputs": [],
   "source": []
  }
 ],
 "metadata": {
  "kernelspec": {
   "display_name": "Python 3 (ipykernel)",
   "language": "python",
   "name": "python3"
  },
  "language_info": {
   "codemirror_mode": {
    "name": "ipython",
    "version": 3
   },
   "file_extension": ".py",
   "mimetype": "text/x-python",
   "name": "python",
   "nbconvert_exporter": "python",
   "pygments_lexer": "ipython3",
   "version": "3.9.13"
  }
 },
 "nbformat": 4,
 "nbformat_minor": 5
}
