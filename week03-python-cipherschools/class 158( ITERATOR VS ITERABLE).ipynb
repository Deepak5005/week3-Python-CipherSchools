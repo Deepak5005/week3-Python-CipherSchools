{
 "cells": [
  {
   "cell_type": "code",
   "execution_count": 1,
   "id": "5449f7c1",
   "metadata": {},
   "outputs": [
    {
     "name": "stdout",
     "output_type": "stream",
     "text": [
      "<map object at 0x000002336E5C87C0>\n",
      "1\n",
      "2\n",
      "3\n",
      "4\n",
      "1\n",
      "4\n",
      "9\n",
      "16\n"
     ]
    }
   ],
   "source": [
    "numbers=[1,2,3,4] #iterables\n",
    "squares=map(lambda a:a**2, numbers) #iterator\n",
    "print(squares)\n",
    "for i in numbers:\n",
    "    print(i)\n",
    "for j in squares:\n",
    "    print(j)\n"
   ]
  },
  {
   "cell_type": "code",
   "execution_count": null,
   "id": "c55635e3",
   "metadata": {},
   "outputs": [],
   "source": [
    "# iterables == lists , tuples , strings"
   ]
  },
  {
   "cell_type": "code",
   "execution_count": null,
   "id": "4cbc6811",
   "metadata": {},
   "outputs": [],
   "source": [
    "# for loop\n",
    "# step 1 call iter function\n",
    "#iter(number) ---> iterator\n",
    "# next(iter(numbers))"
   ]
  },
  {
   "cell_type": "code",
   "execution_count": 6,
   "id": "8aa4a918",
   "metadata": {},
   "outputs": [
    {
     "name": "stdout",
     "output_type": "stream",
     "text": [
      "1\n",
      "2\n",
      "3\n",
      "4\n",
      "<list_iterator object at 0x000002336E6828B0>\n"
     ]
    }
   ],
   "source": [
    "# this is how for loop works\n",
    "numbers=[1,2,3,4] #iterables\n",
    "squares=map(lambda a:a**2, numbers)\n",
    "number_iter=iter(numbers)\n",
    "print(next(number_iter))\n",
    "print(next(number_iter))\n",
    "print(next(number_iter))\n",
    "print(next(number_iter))\n",
    "print(iter(numbers))\n"
   ]
  },
  {
   "cell_type": "code",
   "execution_count": 9,
   "id": "43f324c7",
   "metadata": {},
   "outputs": [
    {
     "name": "stdout",
     "output_type": "stream",
     "text": [
      "1\n",
      "4\n",
      "9\n",
      "16\n"
     ]
    }
   ],
   "source": [
    "numbers=[1,2,3,4] #iterables\n",
    "squares=map(lambda a:a**2, numbers) #iterator\n",
    "print(next(squares))\n",
    "print(next(squares))\n",
    "print(next(squares))\n",
    "print(next(squares))\n"
   ]
  },
  {
   "cell_type": "code",
   "execution_count": null,
   "id": "305b862f",
   "metadata": {},
   "outputs": [],
   "source": []
  }
 ],
 "metadata": {
  "kernelspec": {
   "display_name": "Python 3 (ipykernel)",
   "language": "python",
   "name": "python3"
  },
  "language_info": {
   "codemirror_mode": {
    "name": "ipython",
    "version": 3
   },
   "file_extension": ".py",
   "mimetype": "text/x-python",
   "name": "python",
   "nbconvert_exporter": "python",
   "pygments_lexer": "ipython3",
   "version": "3.9.13"
  }
 },
 "nbformat": 4,
 "nbformat_minor": 5
}
