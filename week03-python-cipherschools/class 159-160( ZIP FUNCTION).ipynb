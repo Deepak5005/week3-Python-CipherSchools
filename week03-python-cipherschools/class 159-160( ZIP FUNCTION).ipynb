{
 "cells": [
  {
   "cell_type": "code",
   "execution_count": 2,
   "id": "db2b4a5a",
   "metadata": {},
   "outputs": [
    {
     "name": "stdout",
     "output_type": "stream",
     "text": [
      "<zip object at 0x00000293019FE440>\n",
      "[('user1', 'isha'), ('user2', 'athira'), ('user3', 'abc')]\n"
     ]
    }
   ],
   "source": [
    "user=['user1','user2','user3']\n",
    "names=['isha','athira','abc']\n",
    "#('user1','isha'),('user2','athira')\n",
    "print(zip(user,names)) \n",
    "print(list(zip(user,names))) \n",
    "\n"
   ]
  },
  {
   "cell_type": "code",
   "execution_count": 3,
   "id": "61bf9874",
   "metadata": {},
   "outputs": [
    {
     "name": "stdout",
     "output_type": "stream",
     "text": [
      "{'a': 1, 'b': 2}\n"
     ]
    }
   ],
   "source": [
    "example=[('a',1),('b',2)]\n",
    "# convert into dictionary\n",
    "print(dict(example))"
   ]
  },
  {
   "cell_type": "code",
   "execution_count": null,
   "id": "662d86e3",
   "metadata": {},
   "outputs": [],
   "source": [
    "# class 160\n"
   ]
  },
  {
   "cell_type": "code",
   "execution_count": 10,
   "id": "8f7b6ecf",
   "metadata": {},
   "outputs": [
    {
     "name": "stdout",
     "output_type": "stream",
     "text": [
      "<zip object at 0x0000029301A76240>\n",
      "[(1, 3, 5, 7), (2, 4, 6, 8)]\n",
      "(1, 3, 5, 7)\n",
      "(2, 4, 6, 8)\n",
      "[1, 3, 5, 7]\n",
      "[2, 4, 6, 8]\n"
     ]
    }
   ],
   "source": [
    "li=[1,3,5,7]\n",
    "l2=[2,4,6,8]\n",
    "l=[(1,2),(3,4),(5,6),(7,8)]\n",
    "# * operator with zip\n",
    "print(zip(*l))\n",
    "print(list(zip(*l)))\n",
    "l1,l2=list(zip(*l))\n",
    "print(l1)\n",
    "print(l2)\n",
    "print(list(l1))\n",
    "print(list(l2))\n",
    "\n",
    "\n"
   ]
  },
  {
   "cell_type": "code",
   "execution_count": 13,
   "id": "71518502",
   "metadata": {},
   "outputs": [
    {
     "name": "stdout",
     "output_type": "stream",
     "text": [
      "[2, 4, 6, 8]\n"
     ]
    }
   ],
   "source": [
    "li=[1,3,5,7]\n",
    "l2=[2,4,6,8]\n",
    "new_list=[]\n",
    "#pair =[(1,2),(3,4),(5,6),(7,8)]\n",
    "for pair in zip(l1,l2):\n",
    "    new_list.append(max(pair))\n",
    "\n",
    "print(new_list)"
   ]
  },
  {
   "cell_type": "code",
   "execution_count": null,
   "id": "3d3dab9a",
   "metadata": {},
   "outputs": [],
   "source": []
  }
 ],
 "metadata": {
  "kernelspec": {
   "display_name": "Python 3 (ipykernel)",
   "language": "python",
   "name": "python3"
  },
  "language_info": {
   "codemirror_mode": {
    "name": "ipython",
    "version": 3
   },
   "file_extension": ".py",
   "mimetype": "text/x-python",
   "name": "python",
   "nbconvert_exporter": "python",
   "pygments_lexer": "ipython3",
   "version": "3.9.13"
  }
 },
 "nbformat": 4,
 "nbformat_minor": 5
}
