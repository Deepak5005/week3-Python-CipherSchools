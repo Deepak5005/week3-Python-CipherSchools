{
 "cells": [
  {
   "cell_type": "code",
   "execution_count": null,
   "id": "9c051ed6",
   "metadata": {},
   "outputs": [],
   "source": [
    "#ENCAPSULATION ---> wrapping of data under a single unit\n",
    "\n",
    "#ABSTRACTION ---> hiding the internal details(complexity to the user)\n",
    "\n",
    "#SOME SPECIAL NAMING CONVENTION ---> # _name ----. convention to tell other user this is a private method dont change it\n",
    "\n",
    "\n",
    "#NAME MANGLING--> __name(not a convention)\n"
   ]
  },
  {
   "cell_type": "code",
   "execution_count": 4,
   "id": "99b99b7d",
   "metadata": {},
   "outputs": [
    {
     "name": "stdout",
     "output_type": "stream",
     "text": [
      "1000\n",
      "-1000\n",
      "[1, 2, 3, 5, 5]\n"
     ]
    }
   ],
   "source": [
    "class Phone:\n",
    "    def __init__(self,brand,model,price):\n",
    "        self.brand=brand\n",
    "        self.model=model\n",
    "        self.price=price\n",
    "        \n",
    "    def make_a_call(self,phone_no):\n",
    "        print(f\"calling{phone_no}...\")\n",
    "    \n",
    "    def full_name(self):\n",
    "        return f\"{self.brand} {self.model}\"\n",
    "    \n",
    "    def send_message(self):\n",
    "        pass #twilio\n",
    "p1=Phone('nokia','1100',1000)\n",
    "print(p1.price)\n",
    "p1.price=-1000\n",
    "print(p1.price)\n",
    "# _name ----. convention to tell other user this is a private method dont change it \n",
    "#__name__ --> dunder/ magic method    \n",
    "l=[5,3,5,2,1]\n",
    "l.sort() #tim sort\n",
    "print(l)"
   ]
  },
  {
   "cell_type": "code",
   "execution_count": 8,
   "id": "3abb155a",
   "metadata": {},
   "outputs": [
    {
     "name": "stdout",
     "output_type": "stream",
     "text": [
      "{'brand': 'nokia', 'model': '1100', '_Phone__price': 1000}\n",
      "1000\n"
     ]
    }
   ],
   "source": [
    "#name mangling \n",
    "class Phone:\n",
    "    def __init__(self,brand,model,price):\n",
    "        self.brand=brand\n",
    "        self.model=model\n",
    "        self.__price=price\n",
    "        \n",
    "    def make_a_call(self,phone_no):\n",
    "        print(f\"calling{phone_no}...\")\n",
    "    \n",
    "    def full_name(self):\n",
    "        return f\"{self.brand} {self.model}\"\n",
    "    \n",
    "    def send_message(self):\n",
    "        pass #twilio\n",
    "p1=Phone('nokia','1100',1000)\n",
    "#print(p1.__price) #thi will show error\n",
    "\n",
    "print(p1.__dict__)\n",
    "print(p1._Phone__price)"
   ]
  },
  {
   "cell_type": "code",
   "execution_count": null,
   "id": "299b25ca",
   "metadata": {},
   "outputs": [],
   "source": []
  },
  {
   "cell_type": "code",
   "execution_count": null,
   "id": "580c9c53",
   "metadata": {},
   "outputs": [],
   "source": []
  },
  {
   "cell_type": "code",
   "execution_count": null,
   "id": "9d676d62",
   "metadata": {},
   "outputs": [],
   "source": []
  },
  {
   "cell_type": "code",
   "execution_count": null,
   "id": "a6491ffb",
   "metadata": {},
   "outputs": [],
   "source": []
  },
  {
   "cell_type": "code",
   "execution_count": null,
   "id": "87c455f5",
   "metadata": {},
   "outputs": [],
   "source": []
  },
  {
   "cell_type": "code",
   "execution_count": null,
   "id": "633ea926",
   "metadata": {},
   "outputs": [],
   "source": []
  },
  {
   "cell_type": "code",
   "execution_count": null,
   "id": "374f0e98",
   "metadata": {},
   "outputs": [],
   "source": []
  }
 ],
 "metadata": {
  "kernelspec": {
   "display_name": "Python 3 (ipykernel)",
   "language": "python",
   "name": "python3"
  },
  "language_info": {
   "codemirror_mode": {
    "name": "ipython",
    "version": 3
   },
   "file_extension": ".py",
   "mimetype": "text/x-python",
   "name": "python",
   "nbconvert_exporter": "python",
   "pygments_lexer": "ipython3",
   "version": "3.9.13"
  }
 },
 "nbformat": 4,
 "nbformat_minor": 5
}
