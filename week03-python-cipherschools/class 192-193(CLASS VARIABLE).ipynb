{
 "cells": [
  {
   "cell_type": "code",
   "execution_count": 3,
   "id": "04f65b28",
   "metadata": {},
   "outputs": [
    {
     "name": "stdout",
     "output_type": "stream",
     "text": [
      "35.26096370805155\n"
     ]
    }
   ],
   "source": [
    "# circle variable\n",
    "# circle\n",
    "# area\n",
    "# circumference\n",
    "class Circle:\n",
    "    def __init__(self,radius,pi):\n",
    "        self.radius=radius\n",
    "        self.pi=pi\n",
    "    def calc_cicum(self): # self represent object\n",
    "        return 2**self.pi*self.radius\n",
    "c=Circle(4,3.14)\n",
    "c2=Circle(5,3.14)\n",
    "print(c.calc_cicum())"
   ]
  },
  {
   "cell_type": "code",
   "execution_count": 4,
   "id": "5365f75c",
   "metadata": {},
   "outputs": [
    {
     "name": "stdout",
     "output_type": "stream",
     "text": [
      "35.26096370805155\n"
     ]
    }
   ],
   "source": [
    "class Circle:\n",
    "    pi=3.14\n",
    "    def __init__(self,radius):\n",
    "        self.radius=radius\n",
    "        \n",
    "    def calc_cicum(self): # self represent object\n",
    "        return 2**Circle.pi*self.radius\n",
    "    \n",
    "c=Circle(4)\n",
    "print(c.calc_cicum())"
   ]
  },
  {
   "cell_type": "code",
   "execution_count": null,
   "id": "4c23726e",
   "metadata": {},
   "outputs": [],
   "source": [
    "# class 193\n",
    "# sale khatam abb 0 krna hai"
   ]
  },
  {
   "cell_type": "code",
   "execution_count": 6,
   "id": "eb428d75",
   "metadata": {},
   "outputs": [
    {
     "name": "stdout",
     "output_type": "stream",
     "text": [
      "45000.0\n"
     ]
    }
   ],
   "source": [
    "\n",
    "class Laptop:\n",
    "    discont_percent =10\n",
    "    def __init__(self,brand,model,price):\n",
    "        self.brand=brand\n",
    "        self.model=model\n",
    "        self.price=price\n",
    "        \n",
    "    def apply_discount(self):\n",
    "        off_price=(Laptop.discont_percent/100)*self.price\n",
    "        return self.price - off_price\n",
    "        \n",
    "Laptop.discount_percent=0        \n",
    "l1=Laptop('Dell','Inspiron',50000)\n",
    "l2=Laptop('HP','i7',90000)\n",
    "print(l1.apply_discount())"
   ]
  },
  {
   "cell_type": "code",
   "execution_count": null,
   "id": "d5accedf",
   "metadata": {},
   "outputs": [],
   "source": [
    "# print dictionary\n"
   ]
  },
  {
   "cell_type": "code",
   "execution_count": 7,
   "id": "43381f4e",
   "metadata": {},
   "outputs": [
    {
     "name": "stdout",
     "output_type": "stream",
     "text": [
      "{'brand': 'Dell', 'model': 'Inspiron', 'price': 50000}\n"
     ]
    }
   ],
   "source": [
    "class Laptop:\n",
    "    discont_percent =10\n",
    "    def __init__(self,brand,model,price):\n",
    "        self.brand=brand\n",
    "        self.model=model\n",
    "        self.price=price\n",
    "        \n",
    "    def apply_discount(self):\n",
    "        off_price=(Laptop.discont_percent/100)*self.price\n",
    "        return self.price - off_price\n",
    "        \n",
    "Laptop.discount_percent=0        \n",
    "l1=Laptop('Dell','Inspiron',50000)\n",
    "l2=Laptop('HP','i7',90000)\n",
    "print(l1.__dict__)"
   ]
  },
  {
   "cell_type": "code",
   "execution_count": null,
   "id": "4880431a",
   "metadata": {},
   "outputs": [],
   "source": []
  },
  {
   "cell_type": "code",
   "execution_count": 16,
   "id": "42747a91",
   "metadata": {},
   "outputs": [
    {
     "name": "stdout",
     "output_type": "stream",
     "text": [
      "{'brand': 'HP', 'model': 'i7', 'price': 90000}\n",
      "45000.0\n"
     ]
    }
   ],
   "source": [
    "class Laptop:\n",
    "    discont_percent =10\n",
    "    def __init__(self,brand,model,price):\n",
    "        self.brand=brand\n",
    "        self.model=model\n",
    "        self.price=price\n",
    "        \n",
    "    def apply_discount(self):\n",
    "        off_price=(Laptop.discont_percent/100)*self.price\n",
    "        return self.price - off_price\n",
    "        \n",
    "Laptop.discont_percent=50    # but 10 percent is coming in outcome \n",
    "l1=Laptop('Dell','Inspiron',50000)\n",
    "l2=Laptop('HP','i7',90000)\n",
    "print(l2.__dict__)\n",
    "print(l2.apply_discount())"
   ]
  },
  {
   "cell_type": "code",
   "execution_count": null,
   "id": "50e95dd6",
   "metadata": {},
   "outputs": [],
   "source": []
  },
  {
   "cell_type": "code",
   "execution_count": 17,
   "id": "afd75f35",
   "metadata": {},
   "outputs": [
    {
     "name": "stdout",
     "output_type": "stream",
     "text": [
      "{'brand': 'HP', 'model': 'i7', 'price': 90000}\n",
      "45000.0\n"
     ]
    }
   ],
   "source": [
    "class Laptop:\n",
    "    discont_percent =10\n",
    "    def __init__(self,brand,model,price):\n",
    "        self.brand=brand\n",
    "        self.model=model\n",
    "        self.price=price\n",
    "        \n",
    "    def apply_discount(self):\n",
    "        off_price=(self.discont_percent/100)*self.price  #### write self\n",
    "        return self.price - off_price\n",
    "        \n",
    "Laptop.discont_percent=50\n",
    "l1=Laptop('Dell','Inspiron',50000)\n",
    "l2=Laptop('HP','i7',90000)\n",
    "print(l2.__dict__)\n",
    "print(l2.apply_discount())"
   ]
  }
 ],
 "metadata": {
  "kernelspec": {
   "display_name": "Python 3 (ipykernel)",
   "language": "python",
   "name": "python3"
  },
  "language_info": {
   "codemirror_mode": {
    "name": "ipython",
    "version": 3
   },
   "file_extension": ".py",
   "mimetype": "text/x-python",
   "name": "python",
   "nbconvert_exporter": "python",
   "pygments_lexer": "ipython3",
   "version": "3.9.13"
  }
 },
 "nbformat": 4,
 "nbformat_minor": 5
}
