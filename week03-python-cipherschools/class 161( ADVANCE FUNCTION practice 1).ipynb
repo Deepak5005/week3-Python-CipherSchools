{
 "cells": [
  {
   "cell_type": "code",
   "execution_count": null,
   "id": "31844226",
   "metadata": {},
   "outputs": [],
   "source": [
    "#THIS IS CHALLENGE\n",
    "\n",
    "# define a function take any no of lists containing number \n",
    "# [1,2,3], [4,5,6], [7,8,9]\n",
    "\n",
    "# return average\n",
    "# (1+4+7)/3, (2,5,8)/3, (3,6,9)/3\n",
    "\n",
    "# try to make this anonymous function in one line using lambda"
   ]
  },
  {
   "cell_type": "code",
   "execution_count": 1,
   "id": "fcdbdc3e",
   "metadata": {},
   "outputs": [
    {
     "name": "stdout",
     "output_type": "stream",
     "text": [
      "[2.5, 3.5, 4.5]\n"
     ]
    }
   ],
   "source": [
    "def  average(l1,l2):\n",
    "    avg=[]\n",
    "    for pair in zip(l1,l2):\n",
    "        avg.append(sum(pair)/len(pair))\n",
    "    return avg\n",
    "print(average([1,2,3],[4,5,6]))"
   ]
  },
  {
   "cell_type": "code",
   "execution_count": 2,
   "id": "65809000",
   "metadata": {},
   "outputs": [
    {
     "name": "stdout",
     "output_type": "stream",
     "text": [
      "[4.0, 5.0, 6.0]\n"
     ]
    }
   ],
   "source": [
    "def  average(*args):\n",
    "    avg=[]\n",
    "    for pair in zip(*args):\n",
    "        avg.append(sum(pair)/len(pair))\n",
    "    return avg\n",
    "print(average([1,2,3],[4,5,6],[7,8,9]))"
   ]
  },
  {
   "cell_type": "code",
   "execution_count": 3,
   "id": "7bdcf60a",
   "metadata": {},
   "outputs": [
    {
     "name": "stdout",
     "output_type": "stream",
     "text": [
      "[4.0, 5.0, 6.0]\n"
     ]
    }
   ],
   "source": [
    "\n",
    "average=lambda*args:[sum(pair)/len(pair) for pair in zip(*args)]\n",
    "print(average([1,2,3],[4,5,6],[7,8,9]))"
   ]
  },
  {
   "cell_type": "code",
   "execution_count": null,
   "id": "7a82d67d",
   "metadata": {},
   "outputs": [],
   "source": []
  },
  {
   "cell_type": "code",
   "execution_count": null,
   "id": "69fe2ef5",
   "metadata": {},
   "outputs": [],
   "source": []
  },
  {
   "cell_type": "code",
   "execution_count": null,
   "id": "0601f6ae",
   "metadata": {},
   "outputs": [],
   "source": []
  },
  {
   "cell_type": "code",
   "execution_count": null,
   "id": "9883d88f",
   "metadata": {},
   "outputs": [],
   "source": []
  }
 ],
 "metadata": {
  "kernelspec": {
   "display_name": "Python 3 (ipykernel)",
   "language": "python",
   "name": "python3"
  },
  "language_info": {
   "codemirror_mode": {
    "name": "ipython",
    "version": 3
   },
   "file_extension": ".py",
   "mimetype": "text/x-python",
   "name": "python",
   "nbconvert_exporter": "python",
   "pygments_lexer": "ipython3",
   "version": "3.9.13"
  }
 },
 "nbformat": 4,
 "nbformat_minor": 5
}
