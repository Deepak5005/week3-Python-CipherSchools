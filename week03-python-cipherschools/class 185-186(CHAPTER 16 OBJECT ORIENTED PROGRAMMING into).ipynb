{
 "cells": [
  {
   "cell_type": "code",
   "execution_count": null,
   "id": "96929e82",
   "metadata": {},
   "outputs": [],
   "source": [
    "# OOP\n",
    "\n",
    "#COMMON TOPIC IN ALMOST ALL POPULAR PROGRAMMING LANGUAGES (PYTHON, C++, JAVA) \n",
    "\n",
    "#WITH COMMON IDEA BUT WITH DIFFERENT SYNTAX\n",
    "\n",
    "#OOP IS JUST A STYLE/WAY TO WRITE A CODE\n",
    "\n",
    "# VERY HELPFUL IN CREATING REAL WORLD PROGRAMS\n",
    "\n",
    "#WE WILL SEE OTHER ADVANTAGES WHEN WE WILL START LEARNING OOP"
   ]
  },
  {
   "cell_type": "code",
   "execution_count": null,
   "id": "26fd7a99",
   "metadata": {},
   "outputs": [],
   "source": [
    "# class , object(instance), method"
   ]
  },
  {
   "cell_type": "code",
   "execution_count": null,
   "id": "77b40206",
   "metadata": {},
   "outputs": [],
   "source": [
    "# list class\n",
    "#list object\n",
    "#method  \n",
    "\n",
    "\n",
    "# class is a blueprint in which we decide ki anne vala object kaisa hoga"
   ]
  },
  {
   "cell_type": "code",
   "execution_count": null,
   "id": "0615cd51",
   "metadata": {},
   "outputs": [],
   "source": [
    "l=[1,2,3,4]#l is class ka object hai\n",
    "l2=[4,5,6,7] \n",
    "l.append(8) # append is method"
   ]
  },
  {
   "cell_type": "code",
   "execution_count": null,
   "id": "73c2c982",
   "metadata": {},
   "outputs": [],
   "source": []
  },
  {
   "cell_type": "code",
   "execution_count": null,
   "id": "c91b9be5",
   "metadata": {},
   "outputs": [],
   "source": [
    "# CLASS 186"
   ]
  },
  {
   "cell_type": "code",
   "execution_count": null,
   "id": "a1946699",
   "metadata": {},
   "outputs": [],
   "source": [
    "# OBJECTIVES\n",
    "\n",
    "# WHAT IS CLASS\n",
    "\n",
    "# HOW TO CREATE AN CLASS\n",
    "\n",
    "# WHAT IS INIT METHOD (constructor)\n",
    "\n",
    "# WHAT ARE ATTRIBUTES, INSTANCE VARIABLES \n",
    "\n",
    "# HOW TO CREATE OUR OBJECT"
   ]
  },
  {
   "cell_type": "code",
   "execution_count": 7,
   "id": "ada82b11",
   "metadata": {},
   "outputs": [
    {
     "name": "stdout",
     "output_type": "stream",
     "text": [
      "init method// constructor get called\n",
      "init method// constructor get called\n",
      "<__main__.Person object at 0x0000018099FF0640>\n",
      "<__main__.Person object at 0x0000018099FF0100>\n",
      "Isha\n",
      "Yatin\n"
     ]
    }
   ],
   "source": [
    "class Person: #captital letter convention\n",
    "    def __init__(self, first_name,last_name,age):\n",
    "        print(\"init method// constructor get called\")\n",
    "        self.first_name=first_name\n",
    "        self.last_name=last_name\n",
    "        self.age=age\n",
    "        \n",
    "p1=Person('Isha','Verma',19)# yeh mere class ka object hai\n",
    "p2=Person('Yatin','Arora',19)\n",
    "print(p1)\n",
    "print(p2)\n",
    "print(p1.first_name)\n",
    "print(p2.first_name)\n",
    "    "
   ]
  },
  {
   "cell_type": "code",
   "execution_count": null,
   "id": "087650de",
   "metadata": {},
   "outputs": [],
   "source": []
  },
  {
   "cell_type": "code",
   "execution_count": null,
   "id": "b3a6d878",
   "metadata": {},
   "outputs": [],
   "source": []
  },
  {
   "cell_type": "code",
   "execution_count": null,
   "id": "50ea5d56",
   "metadata": {},
   "outputs": [],
   "source": []
  },
  {
   "cell_type": "code",
   "execution_count": null,
   "id": "cd6c8a6c",
   "metadata": {},
   "outputs": [],
   "source": []
  },
  {
   "cell_type": "code",
   "execution_count": null,
   "id": "750030ff",
   "metadata": {},
   "outputs": [],
   "source": []
  },
  {
   "cell_type": "code",
   "execution_count": null,
   "id": "b84a633f",
   "metadata": {},
   "outputs": [],
   "source": []
  },
  {
   "cell_type": "code",
   "execution_count": null,
   "id": "2de04b30",
   "metadata": {},
   "outputs": [],
   "source": []
  },
  {
   "cell_type": "code",
   "execution_count": null,
   "id": "de8cd420",
   "metadata": {},
   "outputs": [],
   "source": []
  },
  {
   "cell_type": "code",
   "execution_count": null,
   "id": "797a775c",
   "metadata": {},
   "outputs": [],
   "source": []
  },
  {
   "cell_type": "code",
   "execution_count": null,
   "id": "eac5ea59",
   "metadata": {},
   "outputs": [],
   "source": []
  }
 ],
 "metadata": {
  "kernelspec": {
   "display_name": "Python 3 (ipykernel)",
   "language": "python",
   "name": "python3"
  },
  "language_info": {
   "codemirror_mode": {
    "name": "ipython",
    "version": 3
   },
   "file_extension": ".py",
   "mimetype": "text/x-python",
   "name": "python",
   "nbconvert_exporter": "python",
   "pygments_lexer": "ipython3",
   "version": "3.9.13"
  }
 },
 "nbformat": 4,
 "nbformat_minor": 5
}
