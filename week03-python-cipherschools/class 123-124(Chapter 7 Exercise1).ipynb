{
 "cells": [
  {
   "cell_type": "code",
   "execution_count": null,
   "id": "e32a49b1",
   "metadata": {},
   "outputs": [],
   "source": [
    "# return a dictionary containing cube of numbers from 1 to n\n",
    "\n",
    "# example\n",
    "\n",
    "#cube_finder\n",
    "#(1:1, 2:8, 3:27)"
   ]
  },
  {
   "cell_type": "code",
   "execution_count": 1,
   "id": "0def828a",
   "metadata": {},
   "outputs": [
    {
     "name": "stdout",
     "output_type": "stream",
     "text": [
      "{1: 1, 2: 8, 3: 27, 4: 64, 5: 125, 6: 216, 7: 343, 8: 512, 9: 729, 10: 1000}\n"
     ]
    }
   ],
   "source": [
    "def cube(n):\n",
    "    cubes={}\n",
    "    for i in range(1,n+1):\n",
    "        cubes[i]=i**3\n",
    "    return cubes\n",
    "cube(10)\n",
    "print(cube(10))"
   ]
  },
  {
   "cell_type": "code",
   "execution_count": null,
   "id": "d6d42d8a",
   "metadata": {},
   "outputs": [],
   "source": []
  },
  {
   "cell_type": "code",
   "execution_count": null,
   "id": "74145f60",
   "metadata": {},
   "outputs": [],
   "source": []
  },
  {
   "cell_type": "code",
   "execution_count": null,
   "id": "b20a88f1",
   "metadata": {},
   "outputs": [],
   "source": []
  },
  {
   "cell_type": "code",
   "execution_count": null,
   "id": "c69f5afd",
   "metadata": {},
   "outputs": [],
   "source": []
  }
 ],
 "metadata": {
  "kernelspec": {
   "display_name": "Python 3",
   "language": "python",
   "name": "python3"
  },
  "language_info": {
   "codemirror_mode": {
    "name": "ipython",
    "version": 3
   },
   "file_extension": ".py",
   "mimetype": "text/x-python",
   "name": "python",
   "nbconvert_exporter": "python",
   "pygments_lexer": "ipython3",
   "version": "3.10.9 (tags/v3.10.9:1dd9be6, Dec  6 2022, 20:01:21) [MSC v.1934 64 bit (AMD64)]"
  },
  "vscode": {
   "interpreter": {
    "hash": "3d32b988a5afc41c9d0e32ed68d4c5b6206d0394aaccce84345c2a9bb221138d"
   }
  }
 },
 "nbformat": 4,
 "nbformat_minor": 5
}
