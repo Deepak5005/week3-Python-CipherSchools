{
 "cells": [
  {
   "cell_type": "code",
   "execution_count": null,
   "id": "b86f3ce3",
   "metadata": {},
   "outputs": [],
   "source": [
    "def square(a):\n",
    "    return a**2\n"
   ]
  },
  {
   "cell_type": "code",
   "execution_count": 4,
   "id": "2d55e285",
   "metadata": {},
   "outputs": [
    {
     "name": "stdout",
     "output_type": "stream",
     "text": [
      "<function outer_func.<locals>.inner_func at 0x000001467E35D1F0>\n",
      "inside inner func\n"
     ]
    }
   ],
   "source": [
    "def outer_func():\n",
    "    def inner_func():\n",
    "        print(\"inside inner func\")\n",
    "    return inner_func\n",
    "print(outer_func())\n",
    "var=outer_func()\n",
    "var()\n",
    "\n"
   ]
  },
  {
   "cell_type": "code",
   "execution_count": 5,
   "id": "afa1ce57",
   "metadata": {},
   "outputs": [
    {
     "name": "stdout",
     "output_type": "stream",
     "text": [
      "message is hi there\n"
     ]
    }
   ],
   "source": [
    "def outer_func2(msg):\n",
    "    def inner_func2():\n",
    "        print(f\"message is {msg}\")\n",
    "    return inner_func2\n",
    "var=outer_func2('hi there')\n",
    "var()"
   ]
  },
  {
   "cell_type": "code",
   "execution_count": null,
   "id": "95696947",
   "metadata": {},
   "outputs": [],
   "source": []
  },
  {
   "cell_type": "code",
   "execution_count": null,
   "id": "d1ad2961",
   "metadata": {},
   "outputs": [],
   "source": []
  },
  {
   "cell_type": "code",
   "execution_count": null,
   "id": "2f84a2f4",
   "metadata": {},
   "outputs": [],
   "source": []
  }
 ],
 "metadata": {
  "kernelspec": {
   "display_name": "Python 3 (ipykernel)",
   "language": "python",
   "name": "python3"
  },
  "language_info": {
   "codemirror_mode": {
    "name": "ipython",
    "version": 3
   },
   "file_extension": ".py",
   "mimetype": "text/x-python",
   "name": "python",
   "nbconvert_exporter": "python",
   "pygments_lexer": "ipython3",
   "version": "3.9.13"
  }
 },
 "nbformat": 4,
 "nbformat_minor": 5
}
