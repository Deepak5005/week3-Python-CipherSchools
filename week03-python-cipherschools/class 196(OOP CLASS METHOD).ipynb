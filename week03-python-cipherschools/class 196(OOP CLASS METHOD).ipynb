{
 "cells": [
  {
   "cell_type": "code",
   "execution_count": 2,
   "id": "f387bee1",
   "metadata": {},
   "outputs": [
    {
     "name": "stdout",
     "output_type": "stream",
     "text": [
      " you have created 2 instances of person class\n"
     ]
    }
   ],
   "source": [
    "#class method\n",
    "# not that much useful\n",
    "class Person:\n",
    "    count_instance=0  #classs variable / class attribute\n",
    "    def __init__(self, first_name,last_name,age):\n",
    "        Person.count_instance +=1\n",
    "        self.first_name=first_name\n",
    "        self.last_name=last_name\n",
    "        self.age=age\n",
    "        \n",
    "    @classmethod\n",
    "    def count_instances(cls):\n",
    "        return f\" you have created {cls.count_instance} instances of person class\"\n",
    "    def full_name(self):\n",
    "        return f\"{self.first_name} {self.last_name}\"\n",
    "    \n",
    "    def is_above_18(self):\n",
    "        return self.age>18\n",
    "\n",
    "p1=Person(\"Isha\",'Verma',19)\n",
    "p2=Person(\"abc\",'abc',19)\n",
    "#Person.method_name()\n",
    "#\"you have created 4 instances of person class\"\n",
    "print(Person.count_instances())"
   ]
  },
  {
   "cell_type": "code",
   "execution_count": null,
   "id": "bd850f95",
   "metadata": {},
   "outputs": [],
   "source": []
  },
  {
   "cell_type": "code",
   "execution_count": null,
   "id": "1721d45a",
   "metadata": {},
   "outputs": [],
   "source": []
  },
  {
   "cell_type": "code",
   "execution_count": null,
   "id": "9098e035",
   "metadata": {},
   "outputs": [],
   "source": []
  },
  {
   "cell_type": "code",
   "execution_count": null,
   "id": "d95e1859",
   "metadata": {},
   "outputs": [],
   "source": []
  },
  {
   "cell_type": "code",
   "execution_count": null,
   "id": "78faa629",
   "metadata": {},
   "outputs": [],
   "source": []
  },
  {
   "cell_type": "code",
   "execution_count": null,
   "id": "b8bbfdf9",
   "metadata": {},
   "outputs": [],
   "source": []
  }
 ],
 "metadata": {
  "kernelspec": {
   "display_name": "Python 3 (ipykernel)",
   "language": "python",
   "name": "python3"
  },
  "language_info": {
   "codemirror_mode": {
    "name": "ipython",
    "version": 3
   },
   "file_extension": ".py",
   "mimetype": "text/x-python",
   "name": "python",
   "nbconvert_exporter": "python",
   "pygments_lexer": "ipython3",
   "version": "3.9.13"
  }
 },
 "nbformat": 4,
 "nbformat_minor": 5
}
