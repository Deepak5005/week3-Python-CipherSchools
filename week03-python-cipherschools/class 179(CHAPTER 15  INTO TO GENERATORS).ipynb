{
 "cells": [
  {
   "cell_type": "code",
   "execution_count": 7,
   "id": "152855c2",
   "metadata": {},
   "outputs": [
    {
     "name": "stdout",
     "output_type": "stream",
     "text": [
      "1\n",
      "2\n",
      "3\n",
      "<map object at 0x000001F263D3DAF0>\n"
     ]
    }
   ],
   "source": [
    " # generators\n",
    "# generators are iterators\n",
    "\n",
    "# iterator , iterable\n",
    "l=[1,2,3] #iterable\n",
    "for i in l:\n",
    "    print(i)\n",
    "print(map(lambda a:a**2, l)) # iterator "
   ]
  },
  {
   "cell_type": "code",
   "execution_count": 6,
   "id": "29da1768",
   "metadata": {},
   "outputs": [
    {
     "name": "stdout",
     "output_type": "stream",
     "text": [
      "1\n",
      "2\n",
      "3\n"
     ]
    }
   ],
   "source": [
    "# how loop actually works\n",
    "l=[1,2,3] #iterable\n",
    "i=iter(l) # first changes into iter function\n",
    "print(next(i))# then the next step\n",
    "print(next(i))# then next\n",
    "print(next(i))# then next\n"
   ]
  },
  {
   "cell_type": "code",
   "execution_count": 10,
   "id": "f1f1e61c",
   "metadata": {},
   "outputs": [
    {
     "name": "stdout",
     "output_type": "stream",
     "text": [
      "1\n",
      "25\n",
      "49\n"
     ]
    }
   ],
   "source": [
    "l=[1,5,7]\n",
    "for num in map(lambda a:a**2, l):\n",
    "    print(num)"
   ]
  },
  {
   "cell_type": "code",
   "execution_count": null,
   "id": "3a982bcb",
   "metadata": {},
   "outputs": [],
   "source": [
    "# l=[1,2,3,4]\n",
    "# memory -----[..............] stored in the memory, list\n",
    "#memory ---(1) # only 1 will be used \n",
    "# when we will demand for the next number then will have to call it too\n",
    "# memory is used less\n",
    "# performance is increased\n",
    "# one at a time\n",
    "# list is used when we have to call again and again\n"
   ]
  },
  {
   "cell_type": "code",
   "execution_count": null,
   "id": "ae3f1036",
   "metadata": {},
   "outputs": [],
   "source": []
  },
  {
   "cell_type": "code",
   "execution_count": null,
   "id": "ba1e0b15",
   "metadata": {},
   "outputs": [],
   "source": []
  },
  {
   "cell_type": "code",
   "execution_count": null,
   "id": "46907eae",
   "metadata": {},
   "outputs": [],
   "source": []
  }
 ],
 "metadata": {
  "kernelspec": {
   "display_name": "Python 3 (ipykernel)",
   "language": "python",
   "name": "python3"
  },
  "language_info": {
   "codemirror_mode": {
    "name": "ipython",
    "version": 3
   },
   "file_extension": ".py",
   "mimetype": "text/x-python",
   "name": "python",
   "nbconvert_exporter": "python",
   "pygments_lexer": "ipython3",
   "version": "3.9.13"
  }
 },
 "nbformat": 4,
 "nbformat_minor": 5
}
