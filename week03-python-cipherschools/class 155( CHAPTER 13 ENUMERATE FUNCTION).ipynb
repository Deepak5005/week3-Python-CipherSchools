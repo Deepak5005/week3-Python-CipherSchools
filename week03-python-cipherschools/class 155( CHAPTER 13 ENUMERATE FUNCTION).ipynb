{
 "cells": [
  {
   "cell_type": "code",
   "execution_count": null,
   "id": "2d58da2c",
   "metadata": {},
   "outputs": [],
   "source": [
    "# we use enumerate function with for loop to track position\n",
    "# item in iterable\n"
   ]
  },
  {
   "cell_type": "code",
   "execution_count": 8,
   "id": "23034537",
   "metadata": {},
   "outputs": [
    {
     "name": "stdout",
     "output_type": "stream",
     "text": [
      "0 --> ['abc', 'abcd', 'isha']\n",
      "1 --> ['abc', 'abcd', 'isha']\n",
      "2 --> ['abc', 'abcd', 'isha']\n"
     ]
    }
   ],
   "source": [
    "# without enumerate\n",
    "names=['abc','abcd','isha']\n",
    "pos=0\n",
    "for name in names:\n",
    "    print(f\"{pos} --> {names}\")\n",
    "    pos+=1\n",
    "    \n",
    "    "
   ]
  },
  {
   "cell_type": "code",
   "execution_count": 10,
   "id": "c1473f2b",
   "metadata": {},
   "outputs": [
    {
     "name": "stdout",
     "output_type": "stream",
     "text": [
      "0 --> ['abc', 'abcd', 'isha']\n",
      "1 --> ['abc', 'abcd', 'isha']\n",
      "2 --> ['abc', 'abcd', 'isha']\n"
     ]
    }
   ],
   "source": [
    "# with enumerate\n",
    "names=['abc','abcd','isha']\n",
    "for pos,name in enumerate(names):\n",
    "     print(f\"{pos} --> {names}\")\n",
    "    \n",
    "    "
   ]
  },
  {
   "cell_type": "code",
   "execution_count": null,
   "id": "3a2357ac",
   "metadata": {},
   "outputs": [],
   "source": [
    "\n",
    "# Define a function that take two arguments\n",
    "# 1.) list containing string\n",
    "# 2.) string that want to find in your list\n",
    "# and this function will return the index of string in your list and\n",
    "\n",
    "# if string is not present then return -1"
   ]
  },
  {
   "cell_type": "code",
   "execution_count": 13,
   "id": "e841308e",
   "metadata": {},
   "outputs": [
    {
     "name": "stdout",
     "output_type": "stream",
     "text": [
      "-1\n"
     ]
    }
   ],
   "source": [
    "names=['abc','abcd','isha']\n",
    "def find_pops(l,target):\n",
    "    for pops,name in enumerate(l):\n",
    "        if name== target:\n",
    "            return pos\n",
    "        return -1\n",
    "print(find_pops(names,'isha'))\n",
    "    "
   ]
  },
  {
   "cell_type": "code",
   "execution_count": null,
   "id": "3cf7b870",
   "metadata": {},
   "outputs": [],
   "source": []
  }
 ],
 "metadata": {
  "kernelspec": {
   "display_name": "Python 3 (ipykernel)",
   "language": "python",
   "name": "python3"
  },
  "language_info": {
   "codemirror_mode": {
    "name": "ipython",
    "version": 3
   },
   "file_extension": ".py",
   "mimetype": "text/x-python",
   "name": "python",
   "nbconvert_exporter": "python",
   "pygments_lexer": "ipython3",
   "version": "3.9.13"
  }
 },
 "nbformat": 4,
 "nbformat_minor": 5
}
